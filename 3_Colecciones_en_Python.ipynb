{
  "nbformat": 4,
  "nbformat_minor": 0,
  "metadata": {
    "colab": {
      "provenance": []
    },
    "kernelspec": {
      "name": "python3",
      "display_name": "Python 3"
    },
    "language_info": {
      "name": "python"
    }
  },
  "cells": [
    {
      "cell_type": "code",
      "execution_count": 2,
      "metadata": {
        "colab": {
          "base_uri": "https://localhost:8080/"
        },
        "id": "Y6e0lE_Nsvaw",
        "outputId": "d963080c-1bac-414d-fa7b-0aef95147ed7"
      },
      "outputs": [
        {
          "output_type": "stream",
          "name": "stdout",
          "text": [
            "4.1000000000000005\n"
          ]
        }
      ],
      "source": [
        "notas = [4.3,5,2.5,4.3,7,1.5]\n",
        "print(sum(notas)/len(notas))"
      ]
    },
    {
      "cell_type": "markdown",
      "source": [
        "# Introducción\n",
        "Las colecciones nos permiten agrupar datos, objetos y otras estructuras bajo un mismo nombre.\n",
        "\n",
        "**¿Ventajas?**\n",
        "\n",
        "En Python existen cuatro colecciones básicas: Listas, Tuplas, Conjuntos y Diccionarios"
      ],
      "metadata": {
        "id": "95qEmfi6vTZS"
      }
    },
    {
      "cell_type": "markdown",
      "source": [
        "## LISTAS"
      ],
      "metadata": {
        "id": "Nehe3iMovZRM"
      }
    },
    {
      "cell_type": "markdown",
      "source": [
        "Las listas utilizan corchetes para la creación y acceso de sus elementos"
      ],
      "metadata": {
        "id": "stCm-nX4vmFH"
      }
    },
    {
      "cell_type": "markdown",
      "source": [
        "## CREACION Y ACCESO"
      ],
      "metadata": {
        "id": "CepL0AFMvq4S"
      }
    },
    {
      "cell_type": "code",
      "source": [
        "lenguajes = [\"Python\", \"Java\", \"Javascript\"]\n",
        "print(lenguajes)\n",
        "print(lenguajes[0])\n",
        "print(lenguajes[1])\n"
      ],
      "metadata": {
        "colab": {
          "base_uri": "https://localhost:8080/"
        },
        "id": "O49wGdLjvtRL",
        "outputId": "4a659b4a-832c-43b0-f34d-44a3f10f04a4"
      },
      "execution_count": 6,
      "outputs": [
        {
          "output_type": "stream",
          "name": "stdout",
          "text": [
            "['Python', 'Java', 'Javascript']\n",
            "Python\n",
            "Java\n"
          ]
        }
      ]
    },
    {
      "cell_type": "code",
      "source": [
        "numeros =  [3,4,6,2,6,8,4,9]\n",
        "res = numeros[-3] + numeros[5]\n",
        "print(res)"
      ],
      "metadata": {
        "colab": {
          "base_uri": "https://localhost:8080/"
        },
        "id": "FMUG32sYwNqs",
        "outputId": "e6c1f364-1a96-4bee-da63-8033c12a3d51"
      },
      "execution_count": 7,
      "outputs": [
        {
          "output_type": "stream",
          "name": "stdout",
          "text": [
            "16\n"
          ]
        }
      ]
    },
    {
      "cell_type": "markdown",
      "source": [
        "otra forma alternativa de crear listas es mediante la función **list** que recibe como argumento un objeto iterable"
      ],
      "metadata": {
        "id": "EKsvoZ_WxOYF"
      }
    },
    {
      "cell_type": "code",
      "source": [
        "mi_lista = list('1234567')\n",
        "milista_eneteros = [int(x) for x in mi_lista]\n",
        "print(milista_eneteros)\n",
        "print(mi_lista)"
      ],
      "metadata": {
        "colab": {
          "base_uri": "https://localhost:8080/"
        },
        "id": "pTq2iB8LxPFD",
        "outputId": "bf532b41-8211-49be-9500-d088bb8ac58d"
      },
      "execution_count": 10,
      "outputs": [
        {
          "output_type": "stream",
          "name": "stdout",
          "text": [
            "[1, 2, 3, 4, 5, 6, 7]\n",
            "['1', '2', '3', '4', '5', '6', '7']\n"
          ]
        }
      ]
    },
    {
      "cell_type": "code",
      "source": [
        "mi_lista = list('1234567')\n",
        "lista_final = []\n",
        "for x in mi_lista:\n",
        "  lista_final.append(int(x))\n",
        "print(lista_final)"
      ],
      "metadata": {
        "colab": {
          "base_uri": "https://localhost:8080/"
        },
        "id": "YlhfBd8uyt_N",
        "outputId": "c3f53040-d363-4008-9e7f-499b844ff71f"
      },
      "execution_count": 11,
      "outputs": [
        {
          "output_type": "stream",
          "name": "stdout",
          "text": [
            "[1, 2, 3, 4, 5, 6, 7]\n"
          ]
        }
      ]
    },
    {
      "cell_type": "code",
      "source": [
        "ml = list(range(1,10))\n",
        "print(ml)"
      ],
      "metadata": {
        "colab": {
          "base_uri": "https://localhost:8080/"
        },
        "id": "4H0CO_aEz024",
        "outputId": "2dd36004-cfd5-49ed-824b-c0966dda1f8f"
      },
      "execution_count": 12,
      "outputs": [
        {
          "output_type": "stream",
          "name": "stdout",
          "text": [
            "[1, 2, 3, 4, 5, 6, 7, 8, 9]\n"
          ]
        }
      ]
    },
    {
      "cell_type": "markdown",
      "source": [
        "Una lista en Python puede almacenar elementos de cualquier tipo de dato, incluso otras listas"
      ],
      "metadata": {
        "id": "Uv6lXEu_0IAh"
      }
    },
    {
      "cell_type": "code",
      "source": [
        "mi_lista = [2,3.5,True,\"amigo\", [3,8,\"a\"]]\n",
        "print(mi_lista)"
      ],
      "metadata": {
        "colab": {
          "base_uri": "https://localhost:8080/"
        },
        "id": "om4FsOMv0ItA",
        "outputId": "95a0116c-77f7-4696-98e7-8854584d0d07"
      },
      "execution_count": 13,
      "outputs": [
        {
          "output_type": "stream",
          "name": "stdout",
          "text": [
            "[2, 3.5, True, 'amigo', [3, 8, 'a']]\n"
          ]
        }
      ]
    },
    {
      "cell_type": "code",
      "source": [
        "mi_listas = [1,2,3, ['p','q', [5,6,7]]]\n",
        "print(mi_listas[3][2][1])\n",
        "print(mi_listas[-1][-1][-2])"
      ],
      "metadata": {
        "colab": {
          "base_uri": "https://localhost:8080/"
        },
        "id": "SKiGzXpW0csL",
        "outputId": "685b3af8-c95c-48b2-d7f2-a3709ec22a2d"
      },
      "execution_count": 14,
      "outputs": [
        {
          "output_type": "stream",
          "name": "stdout",
          "text": [
            "6\n",
            "6\n"
          ]
        }
      ]
    },
    {
      "cell_type": "code",
      "source": [
        "mi_lista= list(range(1,10))\n",
        "print(mi_lista)\n",
        "print(mi_lista [1:4])\n",
        "print(mi_lista[:2])\n",
        "print(mi_lista[7:])\n",
        "print(mi_lista[-5:-1])\n",
        "print(mi_lista[-3:])"
      ],
      "metadata": {
        "colab": {
          "base_uri": "https://localhost:8080/"
        },
        "id": "01zKEyM34bbG",
        "outputId": "95d2338f-750d-43be-fc32-6bded31a3e36"
      },
      "execution_count": 21,
      "outputs": [
        {
          "output_type": "stream",
          "name": "stdout",
          "text": [
            "[1, 2, 3, 4, 5, 6, 7, 8, 9]\n",
            "[2, 3, 4]\n",
            "[1, 2]\n",
            "[8, 9]\n",
            "[5, 6, 7, 8]\n",
            "[7, 8, 9]\n"
          ]
        }
      ]
    },
    {
      "cell_type": "code",
      "source": [
        "mi_lista = [1,2,3,4,5,6]\n",
        "mi_lista [0:3] = [\"a\", \"b\",\"c\"]\n",
        "print(mi_lista)\n"
      ],
      "metadata": {
        "colab": {
          "base_uri": "https://localhost:8080/"
        },
        "id": "gcc1a_xY5yCC",
        "outputId": "5ed5013a-5725-4fd4-f8c7-9c6a1c836723"
      },
      "execution_count": 22,
      "outputs": [
        {
          "output_type": "stream",
          "name": "stdout",
          "text": [
            "['a', 'b', 'c', 4, 5, 6]\n"
          ]
        }
      ]
    },
    {
      "cell_type": "code",
      "source": [
        "mi_lista = [1,2,3,4,5]\n",
        "mi_lista = mi_lista  + [6]\n",
        "print(mi_lista)\n",
        "mi_lista = mi_lista + [7,8,9]\n",
        "print(mi_lista)"
      ],
      "metadata": {
        "colab": {
          "base_uri": "https://localhost:8080/"
        },
        "id": "WrKek2C06myq",
        "outputId": "03405f6b-6646-4ff6-ca5a-7af00ebd268e"
      },
      "execution_count": 24,
      "outputs": [
        {
          "output_type": "stream",
          "name": "stdout",
          "text": [
            "[1, 2, 3, 4, 5, 6]\n",
            "[1, 2, 3, 4, 5, 6, 7, 8, 9]\n"
          ]
        }
      ]
    },
    {
      "cell_type": "code",
      "source": [
        "mi_lista = [1,2,3]\n",
        "x,y,z = mi_lista # Asignar variables al contenido de la lista\n",
        "print(f\"valor de x: {x}\")\n",
        "print(f\"valor de y: {y}\")\n",
        "print(f\"valor de z: {z}\")"
      ],
      "metadata": {
        "colab": {
          "base_uri": "https://localhost:8080/"
        },
        "id": "sczhq1fH6_fH",
        "outputId": "21a3f9e7-0ee5-4d4a-b6a6-713860ff4a52"
      },
      "execution_count": 25,
      "outputs": [
        {
          "output_type": "stream",
          "name": "stdout",
          "text": [
            "valor de x: 1\n",
            "valor de y: 2\n",
            "valor de z: 3\n"
          ]
        }
      ]
    },
    {
      "cell_type": "markdown",
      "source": [
        "## ELIMINACION E INSERCION"
      ],
      "metadata": {
        "id": "olAxvTkR7jNC"
      }
    },
    {
      "cell_type": "code",
      "source": [
        "lenguajes = [\"python\", \"java\", \"javascript\"]\n",
        "del lenguajes[1]\n",
        "print(lenguajes)"
      ],
      "metadata": {
        "colab": {
          "base_uri": "https://localhost:8080/"
        },
        "id": "CMYBIaFQ7lgw",
        "outputId": "de353aa2-7749-462f-f4ba-0541b6db8a42"
      },
      "execution_count": 26,
      "outputs": [
        {
          "output_type": "stream",
          "name": "stdout",
          "text": [
            "['python', 'javascript']\n"
          ]
        }
      ]
    },
    {
      "cell_type": "markdown",
      "source": [
        "POdemos insertar datos en una posicion especifica  con la funcion insert  o al final de lista con la función append"
      ],
      "metadata": {
        "id": "6QTg5bQe75WH"
      }
    },
    {
      "cell_type": "code",
      "source": [
        "lenguajes = [\"python\", \"java\", \"javascript\"]\n",
        "lenguajes.insert(1, \"c++\")\n",
        "print(lenguajes)\n",
        "lenguajes.append(\"c#\")\n",
        "print(lenguajes)"
      ],
      "metadata": {
        "colab": {
          "base_uri": "https://localhost:8080/"
        },
        "id": "Eew5s9kA8EKm",
        "outputId": "fea3b595-0fc6-49dc-f6ea-98c43d03dd1e"
      },
      "execution_count": 27,
      "outputs": [
        {
          "output_type": "stream",
          "name": "stdout",
          "text": [
            "['python', 'c++', 'java', 'javascript']\n",
            "['python', 'c++', 'java', 'javascript', 'c#']\n"
          ]
        }
      ]
    },
    {
      "cell_type": "code",
      "source": [
        "lista = [\"casa\", \"cosa\", \"ala\"]\n",
        "lista.sort()\n",
        "print(lista)"
      ],
      "metadata": {
        "colab": {
          "base_uri": "https://localhost:8080/"
        },
        "id": "Tc_gidIO8P_6",
        "outputId": "00fd189d-9bfe-4128-c434-70c97a396f0b"
      },
      "execution_count": 28,
      "outputs": [
        {
          "output_type": "stream",
          "name": "stdout",
          "text": [
            "['ala', 'casa', 'cosa']\n"
          ]
        }
      ]
    },
    {
      "cell_type": "markdown",
      "source": [
        "para saber si un elemento se encuentra dentro de una lista utilizamos la palabra reservada in"
      ],
      "metadata": {
        "id": "-Lkffy9x8pTF"
      }
    },
    {
      "cell_type": "code",
      "source": [
        "lenguajes = [\"python\", \"java\", \"javascript\"]\n",
        "print(\"python\" in lenguajes)\n",
        "print(\"c++\" in lenguajes)"
      ],
      "metadata": {
        "colab": {
          "base_uri": "https://localhost:8080/"
        },
        "id": "1UcSA2n_8tpW",
        "outputId": "c338b0c0-91c7-4681-bd8c-427c98f4b1ac"
      },
      "execution_count": 29,
      "outputs": [
        {
          "output_type": "stream",
          "name": "stdout",
          "text": [
            "True\n",
            "False\n"
          ]
        }
      ]
    },
    {
      "cell_type": "markdown",
      "source": [],
      "metadata": {
        "id": "x0JRwfcx85eX"
      }
    },
    {
      "cell_type": "markdown",
      "source": [
        "## Recorridos de Listas"
      ],
      "metadata": {
        "id": "tszNfBVn85pD"
      }
    },
    {
      "cell_type": "code",
      "source": [
        "numeros = [1,2,3,4,5]\n",
        "print(numeros)\n",
        "for num in numeros:\n",
        "  print(num)"
      ],
      "metadata": {
        "colab": {
          "base_uri": "https://localhost:8080/"
        },
        "id": "KjEJUdTx888J",
        "outputId": "cf593672-899f-4123-c52d-3a349fc79a23"
      },
      "execution_count": 31,
      "outputs": [
        {
          "output_type": "stream",
          "name": "stdout",
          "text": [
            "[1, 2, 3, 4, 5]\n",
            "1\n",
            "2\n",
            "3\n",
            "4\n",
            "5\n"
          ]
        }
      ]
    },
    {
      "cell_type": "markdown",
      "source": [
        "Python nos ofrece una forma alternativa de acceder al indice de cada elemento a través de la función enumerate"
      ],
      "metadata": {
        "id": "VHoCr9aJ9ROU"
      }
    },
    {
      "cell_type": "code",
      "source": [
        "numeros = [3,29,34,42,54]\n",
        "for x,y in enumerate(numeros):\n",
        "    print(f\"EN la posición: {x} encontramos el valor: {y}\")"
      ],
      "metadata": {
        "colab": {
          "base_uri": "https://localhost:8080/"
        },
        "id": "m-h9e4ZN9YiM",
        "outputId": "48e69746-ce69-444b-afdf-2fef4f4af022"
      },
      "execution_count": 32,
      "outputs": [
        {
          "output_type": "stream",
          "name": "stdout",
          "text": [
            "EN la posición: 0 encontramos el valor: 3\n",
            "EN la posición: 1 encontramos el valor: 29\n",
            "EN la posición: 2 encontramos el valor: 34\n",
            "EN la posición: 3 encontramos el valor: 42\n",
            "EN la posición: 4 encontramos el valor: 54\n"
          ]
        }
      ]
    },
    {
      "cell_type": "markdown",
      "source": [
        "Debido a que la función enumerate devuelve para cada elemento de la lista un par (índice - valor), podemos obtener ambos al tiempo en la misma variable como en el ejemplo anterior o acceder a cada uno a través de variables diferentes. Veamos:"
      ],
      "metadata": {
        "id": "Fndbd2Cv98HO"
      }
    },
    {
      "cell_type": "code",
      "source": [
        "numeros = [\"A\", \"B\", \"C\", \"D\", \"E\"]\n",
        "for indice,valor in enumerate(numeros):\n",
        "    print(f\"EN la posición: {indice} encontramos el valor: {valor}\")"
      ],
      "metadata": {
        "colab": {
          "base_uri": "https://localhost:8080/"
        },
        "id": "bO3y7g4-99th",
        "outputId": "f0be14e5-0ff0-4a29-f1ba-0febf2cc545c"
      },
      "execution_count": 33,
      "outputs": [
        {
          "output_type": "stream",
          "name": "stdout",
          "text": [
            "EN la posición: 0 encontramos el valor: A\n",
            "EN la posición: 1 encontramos el valor: B\n",
            "EN la posición: 2 encontramos el valor: C\n",
            "EN la posición: 3 encontramos el valor: D\n",
            "EN la posición: 4 encontramos el valor: E\n"
          ]
        }
      ]
    },
    {
      "cell_type": "code",
      "source": [
        "lista = [2,35,8,95,41]\n",
        "indice = 0\n",
        "while indice < len(lista):\n",
        "  print(lista[indice])\n",
        "  indice += 1\n",
        "\n"
      ],
      "metadata": {
        "colab": {
          "base_uri": "https://localhost:8080/"
        },
        "id": "kRPFuV5J-YDE",
        "outputId": "f3367a89-7aca-42cd-9598-4163d25e898c"
      },
      "execution_count": 34,
      "outputs": [
        {
          "output_type": "stream",
          "name": "stdout",
          "text": [
            "2\n",
            "35\n",
            "8\n",
            "95\n",
            "41\n"
          ]
        }
      ]
    },
    {
      "cell_type": "markdown",
      "source": [
        "Se cuenta con dos listas y se desean recorrer de manera simultánea mostrando el valor de las dos en cada posición.  ¿Ayudarías a terminar el código de tal manera que se obtenga el siguiente resultado?\n",
        "\n",
        "\n",
        "```\n",
        "ma - pa\n",
        "me - pe\n",
        "mi - pi\n",
        "mo - po\n",
        "mu - pu\n",
        "```"
      ],
      "metadata": {
        "id": "vAqUm69W_VH9"
      }
    },
    {
      "cell_type": "code",
      "source": [
        "lista_1 = [\"ma\",\"me\",\"mi\",\"mo\",\"mu\",\"ñu\"]\n",
        "lista_2 = [\"pa\",\"pe\",\"pi\",\"po\",\"pu\"]\n",
        "\n",
        "for i in range (min(len(lista_1), len(lista_2))):\n",
        "  print(lista_1[i] + \" - \" + lista_2[i])"
      ],
      "metadata": {
        "colab": {
          "base_uri": "https://localhost:8080/"
        },
        "id": "Zgiqq4PQ_VsT",
        "outputId": "3d8de735-891e-49de-be7e-be7ab255d23a"
      },
      "execution_count": 39,
      "outputs": [
        {
          "output_type": "stream",
          "name": "stdout",
          "text": [
            "ma - pa\n",
            "me - pe\n",
            "mi - pi\n",
            "mo - po\n",
            "mu - pu\n"
          ]
        }
      ]
    },
    {
      "cell_type": "code",
      "source": [
        "lista_1 = [\"ma\",\"me\",\"mi\",\"mo\",\"mu\",\"ñu\"]\n",
        "lista_2 = [\"pa\",\"pe\",\"pi\",\"po\",\"pu\"]\n",
        "lista_3 = [\"ra\", \"re\", \"ri\", \"ro\", \"ru\"]\n",
        "lista_4 = [\"sa\", \"se\", \"si\", \"so\", \"su\"]\n",
        "lista_5 = [\"ta\", \"te\", \"ti\", \"to\", \"tu\"]\n",
        "\n",
        "for x in zip (lista_1, lista_2, lista_3, lista_4, lista_5):\n",
        "  print(x)"
      ],
      "metadata": {
        "colab": {
          "base_uri": "https://localhost:8080/"
        },
        "id": "0xutyhu1E-qh",
        "outputId": "7ca2f2ec-ce26-4840-8381-64cc6ca77f96"
      },
      "execution_count": 40,
      "outputs": [
        {
          "output_type": "stream",
          "name": "stdout",
          "text": [
            "('ma', 'pa', 'ra', 'sa', 'ta')\n",
            "('me', 'pe', 're', 'se', 'te')\n",
            "('mi', 'pi', 'ri', 'si', 'ti')\n",
            "('mo', 'po', 'ro', 'so', 'to')\n",
            "('mu', 'pu', 'ru', 'su', 'tu')\n"
          ]
        }
      ]
    },
    {
      "cell_type": "markdown",
      "source": [
        "A la función **zip** le podemos pasar cualquier número de listas y tendrá la capacidad de generar un iterador que las recorra simultáneamente."
      ],
      "metadata": {
        "id": "P2sqhFnjFeK1"
      }
    },
    {
      "cell_type": "markdown",
      "source": [
        "## METODOS APLICABLES A LISTAS"
      ],
      "metadata": {
        "id": "Fvrg5b0GFk6R"
      }
    },
    {
      "cell_type": "code",
      "source": [],
      "metadata": {
        "id": "EO0mAjx_Fm5l"
      },
      "execution_count": null,
      "outputs": []
    },
    {
      "cell_type": "markdown",
      "source": [
        "El método **sort()** ordena los elementos de una lista"
      ],
      "metadata": {
        "id": "Oorwne6uFpLM"
      }
    },
    {
      "cell_type": "code",
      "source": [
        "mi_lista = [4,5,2,8,2,1]\n",
        "mi_lista.sort()\n",
        "print(mi_lista)"
      ],
      "metadata": {
        "colab": {
          "base_uri": "https://localhost:8080/"
        },
        "id": "OyBgh1Q6Fpxq",
        "outputId": "dfee5ce5-7472-4895-cf45-0a26d48a01c3"
      },
      "execution_count": 41,
      "outputs": [
        {
          "output_type": "stream",
          "name": "stdout",
          "text": [
            "[1, 2, 2, 4, 5, 8]\n"
          ]
        }
      ]
    },
    {
      "cell_type": "markdown",
      "source": [
        "Podemos pasarle el argumento reverse=True al método sort() para que ordene inversamente"
      ],
      "metadata": {
        "id": "U2C-NsmBF34y"
      }
    },
    {
      "cell_type": "code",
      "source": [
        "mi_lista = [4,5,2,8,2,1]\n",
        "mi_lista.sort(reverse=True)\n",
        "print(mi_lista)"
      ],
      "metadata": {
        "colab": {
          "base_uri": "https://localhost:8080/"
        },
        "id": "ntTRh8vmF4X5",
        "outputId": "58433e3d-6517-406d-a7b3-33a84187d9af"
      },
      "execution_count": 42,
      "outputs": [
        {
          "output_type": "stream",
          "name": "stdout",
          "text": [
            "[8, 5, 4, 2, 2, 1]\n"
          ]
        }
      ]
    },
    {
      "cell_type": "markdown",
      "source": [
        "El método **remove()** recibe como argumento un objeto y lo borra de la lista"
      ],
      "metadata": {
        "id": "vldi7oQDGKF1"
      }
    },
    {
      "cell_type": "code",
      "source": [
        "lenguajes = [\"python\", \"java\", \"javascript\"]\n",
        "lenguajes.remove(\"java\")\n",
        "print(lenguajes)"
      ],
      "metadata": {
        "colab": {
          "base_uri": "https://localhost:8080/"
        },
        "id": "y5osWGa0GKf0",
        "outputId": "a79439ab-c232-4c09-f739-94027ff02849"
      },
      "execution_count": 44,
      "outputs": [
        {
          "output_type": "stream",
          "name": "stdout",
          "text": [
            "['python', 'javascript']\n"
          ]
        }
      ]
    },
    {
      "cell_type": "markdown",
      "source": [
        "Nota que la diferencia entre **remove()** y **del** es que al primero le puedo enviar el valor que deseo remover mientras que el segundo **del** trabaja con los índices"
      ],
      "metadata": {
        "id": "B2tKHT4KGcTN"
      }
    },
    {
      "cell_type": "code",
      "source": [],
      "metadata": {
        "id": "3B5m8Gv0GdAB"
      },
      "execution_count": null,
      "outputs": []
    },
    {
      "cell_type": "markdown",
      "source": [
        "El método **reverse()** invierte el contenido de la lista"
      ],
      "metadata": {
        "id": "8CowPlhrGfRg"
      }
    },
    {
      "cell_type": "code",
      "source": [
        "lenguajes = [\"python\", \"java\", \"javascript\"]\n",
        "lenguajes.reverse()\n",
        "print(lenguajes)"
      ],
      "metadata": {
        "colab": {
          "base_uri": "https://localhost:8080/"
        },
        "id": "jhJfLAt9Gldg",
        "outputId": "513417ec-19e6-44a4-d5f0-60a48ebf87fd"
      },
      "execution_count": 45,
      "outputs": [
        {
          "output_type": "stream",
          "name": "stdout",
          "text": [
            "['javascript', 'java', 'python']\n"
          ]
        }
      ]
    },
    {
      "cell_type": "code",
      "source": [
        "cadena = \"HOLA MUNDO\"\n",
        "print(cadena[::-1])"
      ],
      "metadata": {
        "colab": {
          "base_uri": "https://localhost:8080/"
        },
        "id": "0OuORTioGwZx",
        "outputId": "f1c636b8-d382-4071-c715-617db1b38eb4"
      },
      "execution_count": 46,
      "outputs": [
        {
          "output_type": "stream",
          "name": "stdout",
          "text": [
            "ODNUM ALOH\n"
          ]
        }
      ]
    },
    {
      "cell_type": "code",
      "source": [
        "cadena = \"HOLA MUNDO0\"\n",
        "Lista = list(cadena)\n",
        "print(Lista)\n",
        "Lista.reverse()\n",
        "print(Lista)\n",
        "\n",
        "cadena = \"\".join(Lista)\n",
        "print(cadena)"
      ],
      "metadata": {
        "colab": {
          "base_uri": "https://localhost:8080/"
        },
        "id": "DXm10nldG8pr",
        "outputId": "7abb40f6-54ca-4faa-b451-bcf49c7475d4"
      },
      "execution_count": 48,
      "outputs": [
        {
          "output_type": "stream",
          "name": "stdout",
          "text": [
            "['H', 'O', 'L', 'A', ' ', 'M', 'U', 'N', 'D', 'O', '0']\n",
            "['0', 'O', 'D', 'N', 'U', 'M', ' ', 'A', 'L', 'O', 'H']\n",
            "0ODNUM ALOH\n"
          ]
        }
      ]
    },
    {
      "cell_type": "markdown",
      "source": [
        "\n",
        "```\n",
        "clear()\n",
        "Vacía todos los ítems de una lista:\n",
        "lista.clear()\n",
        "[]\n",
        "\n",
        "extend()\n",
        "Une una lista a otra:\n",
        "l1 = [1,2,3]\n",
        "l2 = [4,5,6]\n",
        "l1.extend(l2)\n",
        "[1, 2, 3, 4, 5, 6]\n",
        "\n",
        "count()\n",
        "Cuenta el número de veces que aparece un ítem:\n",
        "[\"Hola\", \"mundo\", \"mundo\"].count(\"Hola\")\n",
        "1\n",
        "\n",
        "index()\n",
        "Devuelve el índice en el que aparece un ítem (error si no aparece):\n",
        "[\"Hola\", \"mundo\", \"mundo\"].index(\"mundo\")\n",
        "1\n",
        "\n",
        "pop()\n",
        "Extrae un ítem de la lista y lo borra:\n",
        "l = [10,20,30,40,50]\n",
        "print(l.pop())\n",
        "50\n",
        "[10, 20, 30, 40]\n",
        "\n",
        "```"
      ],
      "metadata": {
        "id": "SPzj4dO_Hd7C"
      }
    },
    {
      "cell_type": "code",
      "source": [
        "l = [10,20,30,40,50]\n",
        "print(l.pop(2))\n",
        "print(l)\n"
      ],
      "metadata": {
        "colab": {
          "base_uri": "https://localhost:8080/"
        },
        "id": "hRzl6txjHejT",
        "outputId": "021437d8-8801-488e-8cca-74ff7a32b341"
      },
      "execution_count": 50,
      "outputs": [
        {
          "output_type": "stream",
          "name": "stdout",
          "text": [
            "30\n",
            "[10, 20, 40, 50]\n"
          ]
        }
      ]
    },
    {
      "cell_type": "markdown",
      "source": [
        "## TUPLAS"
      ],
      "metadata": {
        "id": "Z4PrdWUtUDn3"
      }
    },
    {
      "cell_type": "markdown",
      "source": [
        "## Generalidades"
      ],
      "metadata": {
        "id": "h3JJ7uS9UG4a"
      }
    },
    {
      "cell_type": "markdown",
      "source": [
        "Las Tuplas son similares a las listas pero con la característica de ser inmutables, es decir, sus valores no pueden cambiar.  Las Tuplas se crean con paréntesis **()** en lugar de corchetes **[]**  pero al igual que las listas, se accede a sus posiciones con corchetes **[]**  Veamos:"
      ],
      "metadata": {
        "id": "KXITlh9VUUHp"
      }
    },
    {
      "cell_type": "code",
      "source": [
        "mi_tupla = (\"a\", \"b\", \"c\", \"d\")\n",
        "print(type(mi_tupla))\n",
        "print(mi_tupla)\n",
        "print(mi_tupla[2])\n",
        "print(mi_tupla[1:3])\n",
        "print(mi_tupla[-1])"
      ],
      "metadata": {
        "colab": {
          "base_uri": "https://localhost:8080/"
        },
        "id": "bX36Bg8MUUhe",
        "outputId": "48717592-b44b-4bbf-e0ef-3a8961ca9f48"
      },
      "execution_count": 55,
      "outputs": [
        {
          "output_type": "stream",
          "name": "stdout",
          "text": [
            "<class 'tuple'>\n",
            "('a', 'b', 'c', 'd')\n",
            "c\n",
            "('b', 'c')\n",
            "d\n"
          ]
        }
      ]
    },
    {
      "cell_type": "code",
      "source": [
        "mi_tupla = (\"a\", \"b\", \"c\", \"d\")\n",
        "mi_tupla[1] = \"f\"\n",
        "print(mi_tupla[1])\n"
      ],
      "metadata": {
        "colab": {
          "base_uri": "https://localhost:8080/",
          "height": 176
        },
        "id": "VDnh4a2iUoSM",
        "outputId": "03c8dc11-a841-4510-9553-c6d6ea625ba8"
      },
      "execution_count": 56,
      "outputs": [
        {
          "output_type": "error",
          "ename": "TypeError",
          "evalue": "'tuple' object does not support item assignment",
          "traceback": [
            "\u001b[0;31m---------------------------------------------------------------------------\u001b[0m",
            "\u001b[0;31mTypeError\u001b[0m                                 Traceback (most recent call last)",
            "\u001b[0;32m<ipython-input-56-a7f106a06860>\u001b[0m in \u001b[0;36m<cell line: 0>\u001b[0;34m()\u001b[0m\n\u001b[1;32m      1\u001b[0m \u001b[0mmi_tupla\u001b[0m \u001b[0;34m=\u001b[0m \u001b[0;34m(\u001b[0m\u001b[0;34m\"a\"\u001b[0m\u001b[0;34m,\u001b[0m \u001b[0;34m\"b\"\u001b[0m\u001b[0;34m,\u001b[0m \u001b[0;34m\"c\"\u001b[0m\u001b[0;34m,\u001b[0m \u001b[0;34m\"d\"\u001b[0m\u001b[0;34m)\u001b[0m\u001b[0;34m\u001b[0m\u001b[0;34m\u001b[0m\u001b[0m\n\u001b[0;32m----> 2\u001b[0;31m \u001b[0mmi_tupla\u001b[0m\u001b[0;34m[\u001b[0m\u001b[0;36m1\u001b[0m\u001b[0;34m]\u001b[0m \u001b[0;34m=\u001b[0m \u001b[0;34m\"f\"\u001b[0m\u001b[0;34m\u001b[0m\u001b[0;34m\u001b[0m\u001b[0m\n\u001b[0m\u001b[1;32m      3\u001b[0m \u001b[0mprint\u001b[0m\u001b[0;34m(\u001b[0m\u001b[0mmi_tupla\u001b[0m\u001b[0;34m[\u001b[0m\u001b[0;36m1\u001b[0m\u001b[0;34m]\u001b[0m\u001b[0;34m)\u001b[0m\u001b[0;34m\u001b[0m\u001b[0;34m\u001b[0m\u001b[0m\n",
            "\u001b[0;31mTypeError\u001b[0m: 'tuple' object does not support item assignment"
          ]
        }
      ]
    },
    {
      "cell_type": "markdown",
      "source": [
        "**Que ventajas tiene  una Tupla sobre una LIsta**"
      ],
      "metadata": {
        "id": "__guMVvTVNWS"
      }
    },
    {
      "cell_type": "markdown",
      "source": [
        "Las Tuplas al igual que las Listas pueden almacenar diferentes tipos de elementos y pueden conformarse por otras listas o tuplas internas.  El acceso a sus elementos funciona igual que con las listas."
      ],
      "metadata": {
        "id": "-Gd6AbN3Vhrp"
      }
    },
    {
      "cell_type": "code",
      "source": [
        "mi_tupla = (100, 'hola', [1,2,3], -50)\n",
        "print(mi_tupla[2][-1])\n",
        "mi_tupla = (100, 'hola',(1, (200,'D', ['X', 'Y', 'Z'])), (1,2,3), -50 )\n",
        "print(mi_tupla[2][1][2][1])"
      ],
      "metadata": {
        "colab": {
          "base_uri": "https://localhost:8080/"
        },
        "id": "RyK2PLgwViMi",
        "outputId": "7c038dd0-f167-41b9-a719-3d1e89d9d67a"
      },
      "execution_count": 60,
      "outputs": [
        {
          "output_type": "stream",
          "name": "stdout",
          "text": [
            "3\n",
            "Y\n"
          ]
        }
      ]
    },
    {
      "cell_type": "markdown",
      "source": [
        "Las Tuplas comparten varios métodos de las listas, sin embargo, por ser inmutables, las Tuplas no usan ningún método en cuyo resultado sea un cambio de contenido.  Ejemplo append(), insert(), remove(), sort(), reverse(), etc."
      ],
      "metadata": {
        "id": "2WUE1KVBW-WH"
      }
    },
    {
      "cell_type": "code",
      "source": [
        "mi_tupla = (2,5,2,45,12,5,63,52,4,2.5,8,2)\n",
        "print( mi_tupla.count(2))"
      ],
      "metadata": {
        "colab": {
          "base_uri": "https://localhost:8080/"
        },
        "id": "lXtSkhyWWPuo",
        "outputId": "936d6115-89df-4313-abd5-9859a266f15c"
      },
      "execution_count": 61,
      "outputs": [
        {
          "output_type": "stream",
          "name": "stdout",
          "text": [
            "3\n"
          ]
        }
      ]
    },
    {
      "cell_type": "code",
      "source": [
        "mi_tupla = (2,5,2,45,12,5,63,52,4,2.5,8,2)\n",
        "print(mi_tupla.sort())"
      ],
      "metadata": {
        "id": "5N3G2ax0XVEr"
      },
      "execution_count": null,
      "outputs": []
    },
    {
      "cell_type": "markdown",
      "source": [
        "Las tuplas también las podemos crear a partir de la función **tuple** que recibe un objeto iterable"
      ],
      "metadata": {
        "id": "J9C_vzCnXue8"
      }
    },
    {
      "cell_type": "code",
      "source": [
        "mi_tupla = tuple(\"Hola Mundo\")\n",
        "print(mi_tupla)\n",
        "for dato in mi_tupla:\n",
        "  print(dato)"
      ],
      "metadata": {
        "colab": {
          "base_uri": "https://localhost:8080/"
        },
        "id": "N9U2Z8dlXu9K",
        "outputId": "15f43f23-6152-4040-ccd9-0d0564d104a6"
      },
      "execution_count": 63,
      "outputs": [
        {
          "output_type": "stream",
          "name": "stdout",
          "text": [
            "('H', 'o', 'l', 'a', ' ', 'M', 'u', 'n', 'd', 'o')\n"
          ]
        }
      ]
    },
    {
      "cell_type": "markdown",
      "source": [
        "Por lo demás, podemos resumir diciendo que las listas y las tuplas son semejantes, con la diferencia que las segundas no pueden cambiar su contenido."
      ],
      "metadata": {
        "id": "OC-BI2DGX6wr"
      }
    },
    {
      "cell_type": "code",
      "source": [
        "mi_tupla = tuple(input(\"Ingrese una frase: \"))\n",
        "print(mi_tupla)\n",
        "print(f\"La frase tiene {len(mi_tupla)} caracteres\")\n",
        "\n",
        "for dato in mi_tupla:\n",
        "  print(dato)\n",
        "\n",
        "for dato in enumerate(mi_tupla):\n",
        "  print(dato)\n"
      ],
      "metadata": {
        "colab": {
          "base_uri": "https://localhost:8080/"
        },
        "id": "i7ZxF1YNX7NV",
        "outputId": "c3a2bd5f-ed13-4a54-a113-1f9ca1747514"
      },
      "execution_count": 67,
      "outputs": [
        {
          "output_type": "stream",
          "name": "stdout",
          "text": [
            "Ingrese una frase: calculadora\n",
            "('c', 'a', 'l', 'c', 'u', 'l', 'a', 'd', 'o', 'r', 'a')\n",
            "La frase tiene 11 caracteres\n",
            "c\n",
            "a\n",
            "l\n",
            "c\n",
            "u\n",
            "l\n",
            "a\n",
            "d\n",
            "o\n",
            "r\n",
            "a\n",
            "(0, 'c')\n",
            "(1, 'a')\n",
            "(2, 'l')\n",
            "(3, 'c')\n",
            "(4, 'u')\n",
            "(5, 'l')\n",
            "(6, 'a')\n",
            "(7, 'd')\n",
            "(8, 'o')\n",
            "(9, 'r')\n",
            "(10, 'a')\n"
          ]
        }
      ]
    },
    {
      "cell_type": "markdown",
      "source": [
        "## PASO DE LA TUPLA A LISTA Y DE LA LISTA A TUPLA"
      ],
      "metadata": {
        "id": "NRG8BRlpYt5p"
      }
    },
    {
      "cell_type": "code",
      "source": [],
      "metadata": {
        "id": "29KxN4xRYykg"
      },
      "execution_count": null,
      "outputs": []
    },
    {
      "cell_type": "markdown",
      "source": [
        "## Paso de Tupla a Lista y Lista a Tupla\n",
        "Las funciones **list** y **tuple** son las que nos permiten realizar este tipo de conversiones.  miremos"
      ],
      "metadata": {
        "id": "v-DcUEtwY1YC"
      }
    },
    {
      "cell_type": "markdown",
      "source": [
        "**Paso de Lista a TUpla**"
      ],
      "metadata": {
        "id": "3J2N3Q3eZXzD"
      }
    },
    {
      "cell_type": "code",
      "source": [
        "mi_lista = [1,2,3,4,5]\n",
        "print(f\"{mi_lista} es de tipo {type(mi_lista)}\")\n",
        "mi_tupla = tuple(mi_lista)\n",
        "print(f\"{mi_tupla} es de tipo {type(mi_tupla)}\")"
      ],
      "metadata": {
        "colab": {
          "base_uri": "https://localhost:8080/"
        },
        "id": "nn8UbgQWY13o",
        "outputId": "eed702dc-f525-4175-cc34-a4565cdcbaa1"
      },
      "execution_count": 68,
      "outputs": [
        {
          "output_type": "stream",
          "name": "stdout",
          "text": [
            "[1, 2, 3, 4, 5] es de tipo <class 'list'>\n",
            "(1, 2, 3, 4, 5) es de tipo <class 'tuple'>\n"
          ]
        }
      ]
    },
    {
      "cell_type": "markdown",
      "source": [
        "**Paso de tupla a lista**\n"
      ],
      "metadata": {
        "id": "S8Ki1vUjZbH9"
      }
    },
    {
      "cell_type": "code",
      "source": [
        "mi_tupla = (1,2,3,4,5)\n",
        "print(f\"{mi_tupla} es de tipo {type(mi_tupla)}\")\n",
        "mi_lista = list(mi_tupla)\n",
        "print(f\"{mi_lista} es de tipo {type(mi_lista)}\")\n"
      ],
      "metadata": {
        "colab": {
          "base_uri": "https://localhost:8080/"
        },
        "id": "DUtlEcIAZd6d",
        "outputId": "1a8a44ae-3ca7-4a43-bd00-0c9f9a0d8923"
      },
      "execution_count": 69,
      "outputs": [
        {
          "output_type": "stream",
          "name": "stdout",
          "text": [
            "(1, 2, 3, 4, 5) es de tipo <class 'tuple'>\n",
            "[1, 2, 3, 4, 5] es de tipo <class 'list'>\n"
          ]
        }
      ]
    },
    {
      "cell_type": "code",
      "source": [
        "mi_tupla = (3,8,5,9,1,4)\n",
        "mi_lista = list(mi_tupla)\n",
        "mi_lista.sort()\n",
        "mi_tupla = tuple(mi_lista)\n",
        "print(mi_tupla)"
      ],
      "metadata": {
        "colab": {
          "base_uri": "https://localhost:8080/"
        },
        "id": "TKyHYB3vZ54X",
        "outputId": "92ec27cb-a1fc-4078-b3a3-b1cebda17426"
      },
      "execution_count": 71,
      "outputs": [
        {
          "output_type": "stream",
          "name": "stdout",
          "text": [
            "(1, 3, 4, 5, 8, 9)\n"
          ]
        }
      ]
    },
    {
      "cell_type": "code",
      "source": [],
      "metadata": {
        "id": "cNIA9QqGZ_SQ"
      },
      "execution_count": null,
      "outputs": []
    }
  ]
}