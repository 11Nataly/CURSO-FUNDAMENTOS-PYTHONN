{
  "nbformat": 4,
  "nbformat_minor": 0,
  "metadata": {
    "colab": {
      "provenance": []
    },
    "kernelspec": {
      "name": "python3",
      "display_name": "Python 3"
    },
    "language_info": {
      "name": "python"
    }
  },
  "cells": [
    {
      "cell_type": "markdown",
      "source": [
        "# **Apropiación [Ejercicios Condicionales]**"
      ],
      "metadata": {
        "id": "X2nIU9HA9TwD"
      }
    },
    {
      "cell_type": "markdown",
      "source": [
        "1. En un sistema de automatización industrial, un motor puede estar encendido o apagado. Si la temperatura de la máquina supera los 80 grados, el motor debe apagarse automáticamente. Escribir un programa que controle el estado del motor y lo apague si la temperatura supera los 80 grados."
      ],
      "metadata": {
        "id": "ICa4Aein9ZrM"
      }
    },
    {
      "cell_type": "code",
      "source": [
        "print(\"El motor está encendido\")\n",
        "temperatura = int(input(\"ingrese la temperatura del motor (ej:1...100): \"))\n",
        "if temperatura <= 80:\n",
        "  print(\"El estado del motor es estable y esta encendido\")\n",
        "else:\n",
        "  print(\"motor apagado automaticamente\")"
      ],
      "metadata": {
        "colab": {
          "base_uri": "https://localhost:8080/"
        },
        "id": "7-U0PIhs9bO5",
        "outputId": "c4093207-741d-4443-b5f0-e3e82ff5778e"
      },
      "execution_count": null,
      "outputs": [
        {
          "output_type": "stream",
          "name": "stdout",
          "text": [
            "El motor está encendido\n",
            "ingrese la temperatura del motor (ej:1...100): 12\n",
            "El estado del motor es estable y esta encendido\n"
          ]
        }
      ]
    },
    {
      "cell_type": "markdown",
      "source": [
        "2. Una universidad ofrece un descuento a los estudiantes que depende del estrato y la edad. Si el estrato es 1 y su edad es menor a 18 el descuento será del 20% sobre el valor de la matrícula. Si el estrato es 1 y el alumno tiene 18 o mas años, el descuento será del 15%. Si\n",
        "el estrato es 2 y la edad es menor a 18 años, el descuento será del 10% y si el estrato es 2 y la edad es 18 años o mas, el descuento\n",
        "\n",
        "será del 5%.\n",
        "\n",
        "Escribir el precio que deberá pagar un estudiante por su matrícula y el valor del descuento."
      ],
      "metadata": {
        "id": "tSwfOyi39giF"
      }
    },
    {
      "cell_type": "code",
      "source": [
        "estrato = int(input(\"ingrese su estrato (1/2): \"))\n",
        "edad = int(input(\"ingrese su edad: \"))\n",
        "matricula = int(input(\"ingrese el valor de la matricula: \"))\n",
        "\n",
        "if (estrato==1)and(edad<18):\n",
        "  precio1 = matricula-(matricula *0.20)\n",
        "  print(f\"usted tiene un descuento en su matricula de 20% y su precio quedó en: ${precio1:.2f}\")#:.2f para que quede en formato dinero\n",
        "elif(estrato==1)and(edad>=18):\n",
        "  precio2 = matricula-(matricula *0.15)\n",
        "  print(f\"usted tiene un descuento en su matricula de 15% y su precio quedó en: {precio2:.2f}\")\n",
        "elif(estrato==2)and(edad<18):\n",
        "  precio3 = matricula-(matricula *0.10)\n",
        "  print(f\"usted tiene un descuento en su matricula de 10% y su precio quedó en: {precio3:.2f}\")\n",
        "elif(estrato==2)and(edad>=18):\n",
        "  precio4 = matricula-(matricula *0.05)\n",
        "  print(f\"usted tiene un descuento en su matricula de 5% y su precio quedó en: {precio4:.2f}\")\n",
        "else:\n",
        "  print(\"valores ingresados invalidos. Ingrese estrato 1 o 2 y su número de años\")\n"
      ],
      "metadata": {
        "colab": {
          "base_uri": "https://localhost:8080/"
        },
        "id": "_qaiKZ-itWeV",
        "outputId": "27d7bff2-90f8-4bb7-ed29-351b7a9d959a"
      },
      "execution_count": null,
      "outputs": [
        {
          "output_type": "stream",
          "name": "stdout",
          "text": [
            "ingrese su estrato (1/2): 1\n",
            "ingrese su edad: 18\n",
            "ingrese el valor de la matricula: 100\n",
            "usted tiene un descuento en su matricula de 15% y su precio quedó en: 85.00\n"
          ]
        }
      ]
    },
    {
      "cell_type": "markdown",
      "source": [
        "3. En un sistema de control de calidad, se deben inspeccionar las piezas de un producto para determinar si cumplen con los estándares de calidad. Si la pieza es defectuosa, se debe marcar como rechazada y enviar una alerta al operador. Si la pieza cumple con los estándares de calidad, se debe marcar como aprobada y continuar con la producción.\n",
        "Realice un programa que lea una entrada binaria en la que los 1s significan estándares de calidad cumplidos y los Os significan estándares de calidad No cumplidos. El programa debe rechazar la pieza ante cualquier estándar no cumplido."
      ],
      "metadata": {
        "id": "g2jTYWKV9pv1"
      }
    },
    {
      "cell_type": "code",
      "source": [
        "cantidad_piezas =int(input(\"ingrese la cantidad de piezas del producto que va a verificar (ej: 2): \"))\n",
        "\n",
        "#rechazo de piezas inexistentes\n",
        "if cantidad_piezas <= 0:\n",
        "    print(\"Entrada incorrecta. Ingrese una cantidad válida. (ej:2)\")\n",
        "else:\n",
        "    # Solicitar calidad\n",
        "    calidad_binaria = input(\"Ingrese la calidad binaria (1's para estándares cumplidos / 0's para estándares no cumplidos, ej: 1101): \")\n",
        "if '0' in calidad_binaria: #para que reconozca los 0's\n",
        "  print(\"La pieza ha sido rechazada\\nEnviando alerta a operador...\")\n",
        "else:\n",
        "  print(\"La pieza ha sido aprobada\\nContinuando con producción\")"
      ],
      "metadata": {
        "id": "WQSuE3W_cejJ",
        "colab": {
          "base_uri": "https://localhost:8080/"
        },
        "outputId": "6d3174f9-5e61-4d33-c6f4-328aae42e510"
      },
      "execution_count": null,
      "outputs": [
        {
          "output_type": "stream",
          "name": "stdout",
          "text": [
            "ingrese la cantidad de piezas del producto que va a verificar (ej: 2): 2\n",
            "Ingrese la calidad binaria (1's para estándares cumplidos / 0's para estándares no cumplidos, ej: 1101): 111\n",
            "La pieza ha sido aprobada\n",
            "Continuando con producción\n"
          ]
        }
      ]
    },
    {
      "cell_type": "markdown",
      "source": [
        "# **Apropiación [Ejercicios Cíclicos]**\n"
      ],
      "metadata": {
        "id": "SRpClJ7f3j7O"
      }
    },
    {
      "cell_type": "markdown",
      "source": [
        "1. Leer un número y presentar la tabla de multiplicar de ese número entre 1 y 10. Utilizar el siguiente formato de ejemplo: 1 x 1 = 1 1 x 2 = 2 1 x 3 = 3 1 x 4 = 4 1 x 5 = 5"
      ],
      "metadata": {
        "id": "ceYLEpVp8lHD"
      }
    },
    {
      "cell_type": "code",
      "source": [
        "numero = int(input(\"ingrese un número (ej: 2): \"))\n",
        "\n",
        "contador = 1\n",
        "for x in range (numero,numero*11,numero):\n",
        "  print(f\"{numero} x {contador} = {x}\")\n",
        "  contador+=1"
      ],
      "metadata": {
        "colab": {
          "base_uri": "https://localhost:8080/"
        },
        "id": "ZOlJ_gMD8swJ",
        "outputId": "035a014b-3eaa-45ca-9faf-cde27cafb0d9"
      },
      "execution_count": null,
      "outputs": [
        {
          "output_type": "stream",
          "name": "stdout",
          "text": [
            "ingrese un número (ej: 2): 2\n",
            "2 x 1 = 2\n",
            "2 x 2 = 4\n",
            "2 x 3 = 6\n",
            "2 x 4 = 8\n",
            "2 x 5 = 10\n",
            "2 x 6 = 12\n",
            "2 x 7 = 14\n",
            "2 x 8 = 16\n",
            "2 x 9 = 18\n",
            "2 x 10 = 20\n"
          ]
        }
      ]
    },
    {
      "cell_type": "markdown",
      "source": [
        "2. En un partido de fútbol, se ofrece un descuento a los aficionados que depende del estrato y la edad. Si el estrato es 1 y su edad es menor a 18 el descuento será del 20% sobre el valor de la boleta. Si el estrato es 1 y el alumno tiene 18 o mas años, el descuento será del 15%. Si el estrato es 2 y la edad es menor a 18 años, el descuento será del 10% y si el estrato es 2 y la edad es 18 años o más, el descuento será del 5%. Determinar el total del dinero recaudado y descontado por las últimas N personas que ingresan al partido.\n",
        "\n",
        "total_recaudado = 0\n",
        "for\n",
        "   total_recaudado = total_recaudado + pago\n"
      ],
      "metadata": {
        "id": "zsh2zM6hpL25"
      }
    },
    {
      "cell_type": "code",
      "source": [
        "N = int(input(\"Ingrese el número de las últimas personas que entraron al partido (ej: 10): \"))\n",
        "boleta = int(input(\"Ingrese el valor de la boleta: \"))\n",
        "\n",
        "total_recaudado = 0\n",
        "total_descuento = 0\n",
        "\n",
        "# Bucle para cada persona\n",
        "for x in range(N):\n",
        "    print(f\"Persona {x + 1}:\")\n",
        "\n",
        "\n",
        "    estrato = int(input(\"Ingrese su estrato (1/2): \"))\n",
        "    edad = int(input(\"Ingrese su edad: \"))\n",
        "\n",
        "\n",
        "    if estrato not in [1, 2] or edad <= 0:\n",
        "        print(\"Valores ingresados inválidos. Ingrese estrato 1 o 2 y una edad válida.\")\n",
        "        continue  # Vuelve al inicio del for sin hacer cálculos\n",
        "\n",
        "    if estrato == 1 and edad < 18:\n",
        "        descuento = boleta * 0.20\n",
        "    elif estrato == 1 and edad >= 18:\n",
        "        descuento = boleta * 0.15\n",
        "    elif estrato == 2 and edad < 18:\n",
        "        descuento = boleta * 0.10\n",
        "    elif estrato == 2 and edad >= 18:\n",
        "        descuento = boleta * 0.05\n",
        "\n",
        "    # Calcular el valor final de la boleta para cada persona\n",
        "    pago = boleta - descuento\n",
        "\n",
        "\n",
        "    print(f\"Usted tiene un descuento del {descuento / boleta * 100:.0f}% y su pago quedó en: ${pago:.2f}\")\n",
        "\n",
        "    total_recaudado += pago\n",
        "    total_descuento += descuento\n",
        "\n",
        "# Mostrar resultados acomulados\n",
        "print(f\"\\nTotal dinero recaudado: ${total_recaudado:.2f}\")\n",
        "print(f\"Total dinero descontado: ${total_descuento:.2f}\")\n",
        "\n",
        "\n",
        "\n"
      ],
      "metadata": {
        "colab": {
          "base_uri": "https://localhost:8080/"
        },
        "id": "jP4ukffB4CkG",
        "outputId": "40857284-15aa-4c02-83f3-6444301e1de7"
      },
      "execution_count": null,
      "outputs": [
        {
          "output_type": "stream",
          "name": "stdout",
          "text": [
            "Ingrese el número de las últimas personas que entraron al partido (ej: 10): 2\n",
            "Ingrese el valor de la boleta: 100\n",
            "Persona 1:\n",
            "Ingrese su estrato (1/2): 1\n",
            "Ingrese su edad: 18\n",
            "Usted tiene un descuento del 15% y su pago quedó en: $85.00\n",
            "Persona 2:\n",
            "Ingrese su estrato (1/2): 2\n",
            "Ingrese su edad: 18\n",
            "Usted tiene un descuento del 5% y su pago quedó en: $95.00\n",
            "\n",
            "Total dinero recaudado: $180.00\n",
            "Total dinero descontado: $20.00\n"
          ]
        }
      ]
    },
    {
      "cell_type": "markdown",
      "source": [
        "3. Leer un password de ingreso a un programa y mostrar el mensaje de bienvenida si es correcto. Mientras no lo sea, debe mostrar el mensaje de Password incorrecto. El programa debe terminar automáticamente al quinto intento fallido"
      ],
      "metadata": {
        "id": "f4nDtelh3-rp"
      }
    },
    {
      "cell_type": "markdown",
      "source": [
        "***EL CODIGO NO APARECE EN LA PREVIEW DE GITHUB, ESTE ES EL CÓDIGO:***\n",
        "nombre = input(\"ingrese su nombre: \")\n",
        "intentos = 0\n",
        "max_intentos= 5\n",
        "\n",
        "while intentos <max_intentos:\n",
        "  password = input(\"ingrese su password: \")\n",
        "  if password == \"Kori8\":\n",
        "    print(f\"Bienvenid@, {nombre}\")\n",
        "    break\n",
        "  else:\n",
        "    intentos+=1 #sumo primero un intento para que de la resta bien\n",
        "    print(f\"Password incorrecto\\n Intentos restantes: {max_intentos - intentos}\")\n",
        "\n",
        "print(\"Demasiados intentos fallidos\")"
      ],
      "metadata": {
        "id": "hfr6IHIMAIns"
      }
    },
    {
      "cell_type": "code",
      "source": [
        "nombre = input(\"ingrese su nombre: \")\n",
        "intentos = 0\n",
        "max_intentos= 5\n",
        "\n",
        "while intentos <max_intentos:\n",
        "  password = input(\"ingrese su password: \")\n",
        "  if password == \"Kori8\":\n",
        "    print(f\"Bienvenid@, {nombre}\")\n",
        "    break\n",
        "  else:\n",
        "    intentos+=1 #sumo primero un intento para que de la resta bien\n",
        "    print(f\"Password incorrecto\\n Intentos restantes: {max_intentos - intentos}\")\n",
        "\n",
        "print(\"Demasiados intentos fallidos\")"
      ],
      "metadata": {
        "colab": {
          "base_uri": "https://localhost:8080/"
        },
        "id": "0CxgqQj39HXc",
        "outputId": "37e1af75-12f4-4357-9777-88d9e6075c3c"
      },
      "execution_count": null,
      "outputs": [
        {
          "output_type": "stream",
          "name": "stdout",
          "text": [
            "ingrese su nombre: nat\n",
            "ingrese su password: s\n",
            "Password incorrecto\n",
            " Intentos restantes: 4\n",
            "ingrese su password: \n",
            "Password incorrecto\n",
            " Intentos restantes: 3\n",
            "ingrese su password: e\n",
            "Password incorrecto\n",
            " Intentos restantes: 2\n",
            "ingrese su password: gt\n",
            "Password incorrecto\n",
            " Intentos restantes: 1\n",
            "ingrese su password: a\n",
            "Password incorrecto\n",
            " Intentos restantes: 0\n",
            "Demasiados intentos fallidos\n"
          ]
        }
      ]
    }
  ]
}