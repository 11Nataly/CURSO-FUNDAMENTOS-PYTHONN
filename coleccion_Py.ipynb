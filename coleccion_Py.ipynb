{
  "nbformat": 4,
  "nbformat_minor": 0,
  "metadata": {
    "colab": {
      "provenance": []
    },
    "kernelspec": {
      "name": "python3",
      "display_name": "Python 3"
    },
    "language_info": {
      "name": "python"
    }
  },
  "cells": [
    {
      "cell_type": "code",
      "execution_count": null,
      "metadata": {
        "id": "H6Co7JqEzZ2-"
      },
      "outputs": [],
      "source": []
    },
    {
      "cell_type": "markdown",
      "source": [
        "INTRODUCCION"
      ],
      "metadata": {
        "id": "aPh6a_g2zihE"
      }
    },
    {
      "cell_type": "markdown",
      "source": [
        "se denominan colecciones y son estructuras que nos permiten almacenar datos.\n",
        "en **python** existen varios tipos de colecciones:\n",
        "\n",
        "\n",
        "*   Listas\n",
        "*   tuplas\n",
        "*  conjuntos\n",
        "*   diccionario\n",
        "\n",
        "\n",
        "\n",
        "\n"
      ],
      "metadata": {
        "id": "a1b8f7zbzj3T"
      }
    },
    {
      "cell_type": "markdown",
      "source": [
        "LISTAS (cumplen la misma función que los arreglos/arrays en JS)"
      ],
      "metadata": {
        "id": "mpeg6KuZz7XU"
      }
    },
    {
      "cell_type": "markdown",
      "source": [
        "las listas son similares a los arreglos en JS.**Nos permiten acceder a sus elementos a través de sus índices**"
      ],
      "metadata": {
        "id": "WzWPB8ZQ0Fq0"
      }
    },
    {
      "cell_type": "markdown",
      "source": [
        "## creación y accesos"
      ],
      "metadata": {
        "id": "vh0obiA90RNc"
      }
    },
    {
      "cell_type": "markdown",
      "source": [
        "utilizan corchetes para la creación y acceso a sus elementos"
      ],
      "metadata": {
        "id": "I3Z7Hyld0WDj"
      }
    },
    {
      "cell_type": "code",
      "source": [
        "lenguajes = ['python', 'java', 'javescript', 'cx']\n",
        "print(lenguajes)\n",
        "print(lenguajes[0])\n",
        "print(lenguajes[1])\n",
        "print(lenguajes[2])\n",
        "\n"
      ],
      "metadata": {
        "colab": {
          "base_uri": "https://localhost:8080/"
        },
        "id": "jxWbqgjo0aRk",
        "outputId": "b839be64-2d8e-4094-b7bb-ddd8014e21b8"
      },
      "execution_count": null,
      "outputs": [
        {
          "output_type": "stream",
          "name": "stdout",
          "text": [
            "['python', 'java', 'javescript', 'cx']\n",
            "python\n"
          ]
        }
      ]
    },
    {
      "cell_type": "code",
      "source": [
        "numeros = [3,4,5,6,7,8,9,]\n",
        "res =numeros [-3] + numeros [5]\n",
        "print(res)"
      ],
      "metadata": {
        "colab": {
          "base_uri": "https://localhost:8080/"
        },
        "id": "FJN4j4rk1R0G",
        "outputId": "82f86225-578b-44d0-8a6b-454fd5f0ae44"
      },
      "execution_count": null,
      "outputs": [
        {
          "output_type": "stream",
          "name": "stdout",
          "text": [
            "15\n"
          ]
        }
      ]
    },
    {
      "cell_type": "markdown",
      "source": [
        "OTRA FORMA ALTERNATIVA DE CREAR LISTAS ES CON LA FUNCIÓN **LIST**"
      ],
      "metadata": {
        "id": "xpGQhfYw1l71"
      }
    },
    {
      "cell_type": "code",
      "source": [
        "mi_lista = list('1234567')\n",
        "print(mi_lista)\n",
        "milista_enteros = [int (x) for x in mi_lista]\n",
        "print(milista_enteros)"
      ],
      "metadata": {
        "colab": {
          "base_uri": "https://localhost:8080/"
        },
        "id": "BkMurAqe10Bl",
        "outputId": "cacccadd-bf94-41d6-b928-bcf961414b33"
      },
      "execution_count": null,
      "outputs": [
        {
          "output_type": "stream",
          "name": "stdout",
          "text": [
            "['1', '2', '3', '4', '5', '6', '7']\n",
            "[1, 2, 3, 4, 5, 6, 7]\n"
          ]
        }
      ]
    },
    {
      "cell_type": "code",
      "source": [
        "mi_lista = list('1234567')\n",
        "lista_final = []\n",
        "\n",
        "#a medida que se recorre el mi_list con la funcion append se va llenando\n",
        "for x in mi_lista:\n",
        "  lista_final.append(int(x))\n",
        "  print(lista_final)\n",
        "\n"
      ],
      "metadata": {
        "colab": {
          "base_uri": "https://localhost:8080/"
        },
        "id": "CY6GGe_Z2Ts2",
        "outputId": "53293e57-f067-44b8-f2cd-a608676d913a"
      },
      "execution_count": null,
      "outputs": [
        {
          "output_type": "stream",
          "name": "stdout",
          "text": [
            "[1]\n",
            "[1, 2]\n",
            "[1, 2, 3]\n",
            "[1, 2, 3, 4]\n",
            "[1, 2, 3, 4, 5]\n",
            "[1, 2, 3, 4, 5, 6]\n",
            "[1, 2, 3, 4, 5, 6, 7]\n"
          ]
        }
      ]
    },
    {
      "cell_type": "code",
      "source": [
        "ml = list( range(1,20))\n",
        "print(ml)"
      ],
      "metadata": {
        "colab": {
          "base_uri": "https://localhost:8080/"
        },
        "id": "_n8H5QhO27mu",
        "outputId": "114fac7a-1aaa-4ac7-f984-f49f6387057d"
      },
      "execution_count": null,
      "outputs": [
        {
          "output_type": "stream",
          "name": "stdout",
          "text": [
            "[1, 2, 3, 4, 5, 6, 7, 8, 9, 10, 11, 12, 13, 14, 15, 16, 17, 18, 19]\n"
          ]
        }
      ]
    },
    {
      "cell_type": "code",
      "source": [
        "mi_lista = [2, 3.5, True, \"sena\", [\"3\", \"8\", \"a\", 5]]\n",
        "print(mi_lista)"
      ],
      "metadata": {
        "colab": {
          "base_uri": "https://localhost:8080/"
        },
        "id": "VtHG7c4G3J61",
        "outputId": "f8c34c62-8d7b-4aa9-be35-4d7d685cef37"
      },
      "execution_count": null,
      "outputs": [
        {
          "output_type": "stream",
          "name": "stdout",
          "text": [
            "[2, 3.5, True, 'sena', ['3', '8', 'a', 5]]\n"
          ]
        }
      ]
    },
    {
      "cell_type": "code",
      "source": [
        "mi_lista = [1, 2,3, ['p', 'q', [5, 6, 7]]]\n",
        "print(mi_lista[3][2][1])\n",
        "print(mi_lista[-1][-1][-2])"
      ],
      "metadata": {
        "colab": {
          "base_uri": "https://localhost:8080/"
        },
        "id": "XZZC-fVT3hj3",
        "outputId": "b1830338-b3d7-4d6f-d6c9-557fe489658c"
      },
      "execution_count": null,
      "outputs": [
        {
          "output_type": "stream",
          "name": "stdout",
          "text": [
            "6\n",
            "6\n"
          ]
        }
      ]
    },
    {
      "cell_type": "code",
      "source": [
        "mi_lista = list(range(1, 10))\n",
        "print(mi_lista)\n",
        "print(mi_lista[1:4])\n",
        "print(mi_lista[:2])\n",
        "print(mi_lista[7:])\n",
        "print(mi_lista[-5:-1])\n",
        "print(mi_lista[-3:])"
      ],
      "metadata": {
        "colab": {
          "base_uri": "https://localhost:8080/"
        },
        "id": "aUVzo14052D4",
        "outputId": "71955d92-9e3f-49c6-9ea9-c445c8e25604"
      },
      "execution_count": null,
      "outputs": [
        {
          "output_type": "stream",
          "name": "stdout",
          "text": [
            "[1, 2, 3, 4, 5, 6, 7, 8, 9]\n",
            "[2, 3, 4]\n",
            "[1, 2]\n",
            "[8, 9]\n",
            "[5, 6, 7, 8]\n",
            "[7, 8, 9]\n"
          ]
        }
      ]
    },
    {
      "cell_type": "code",
      "source": [
        "mi_lista = [1,2,3,4,5]\n",
        "mi_lista [0:3]= [\"a\",\"b\", \"c\"] #va a asignar valores a cada posicion (1=a)\n",
        "#y luego imprime el resto (4,5...)\n",
        "print(mi_lista)"
      ],
      "metadata": {
        "colab": {
          "base_uri": "https://localhost:8080/"
        },
        "id": "6oA82hbF6vtv",
        "outputId": "fab2ff79-3536-427f-940b-eb9a7a77288f"
      },
      "execution_count": null,
      "outputs": [
        {
          "output_type": "stream",
          "name": "stdout",
          "text": [
            "['a', 'b', 'c', 4, 5]\n"
          ]
        }
      ]
    },
    {
      "cell_type": "code",
      "source": [
        "mi_lista =[1,2,3,4,5]\n",
        "mi_lista = mi_lista + [6] #se le agrega a la lista el num 6\n",
        "print(mi_lista)\n",
        "mi_lista = mi_lista + [7]\n",
        "print(mi_lista)"
      ],
      "metadata": {
        "colab": {
          "base_uri": "https://localhost:8080/"
        },
        "id": "sjwXV5-37Mem",
        "outputId": "e2388bed-fa38-4ab2-8ce0-f9590320cbf5"
      },
      "execution_count": null,
      "outputs": [
        {
          "output_type": "stream",
          "name": "stdout",
          "text": [
            "[1, 2, 3, 4, 5, 6]\n",
            "[1, 2, 3, 4, 5, 6, 7]\n"
          ]
        }
      ]
    },
    {
      "cell_type": "code",
      "source": [
        "mi_lista = [1,2,3,]\n",
        "x,y,z = mi_lista\n",
        "print(f\"valor de x: {x}\")\n",
        "print(f\"valor de y: {y}\")\n",
        "print(f\"valor de z: {z}\")"
      ],
      "metadata": {
        "colab": {
          "base_uri": "https://localhost:8080/"
        },
        "id": "Fwp9dojE7kj2",
        "outputId": "aae23f9d-5a93-469c-c428-c5cc4f389671"
      },
      "execution_count": null,
      "outputs": [
        {
          "output_type": "stream",
          "name": "stdout",
          "text": [
            "valor de x: 1\n",
            "valor de x: 2\n",
            "valor de x: 3\n"
          ]
        }
      ]
    },
    {
      "cell_type": "markdown",
      "source": [
        "# Eliminaciòn e inserciòn"
      ],
      "metadata": {
        "id": "QciNlSDw8S9W"
      }
    },
    {
      "cell_type": "markdown",
      "source": [
        "para eliminar los elementos de una lista utilizamos una palabra reservada **del**"
      ],
      "metadata": {
        "id": "UrbQVYlJ8avm"
      }
    },
    {
      "cell_type": "code",
      "source": [
        "lenguajes = [\"python\", \"java\", \"javaScript\"]\n",
        "del lenguajes[1]\n",
        "print(lenguajes)"
      ],
      "metadata": {
        "colab": {
          "base_uri": "https://localhost:8080/"
        },
        "id": "s_mOMLhb8Bnf",
        "outputId": "78e97578-26bd-45a5-dece-53ca8bfce95f"
      },
      "execution_count": null,
      "outputs": [
        {
          "output_type": "stream",
          "name": "stdout",
          "text": [
            "['python', 'javaScript']\n"
          ]
        }
      ]
    },
    {
      "cell_type": "markdown",
      "source": [
        "Expliquemo como  insertar datos con la función **insert** y al final de la lista con **append**"
      ],
      "metadata": {
        "id": "0OKAd3F08hj2"
      }
    },
    {
      "cell_type": "code",
      "source": [
        "lenguajes=[\"Python\", \"Java\",\"JavaScript\"]\n",
        "lenguajes.append(\"C#\") #agrega al final de la lista\n",
        "lenguajes.append(\"Ruby\")\n",
        "lenguajes.insert(1, \"C++\") #inserta en la posción 1, haciendo que este valor pase a ser la posicion 1\n",
        "print(lenguajes)"
      ],
      "metadata": {
        "id": "wT3I73RL8hHu"
      },
      "execution_count": null,
      "outputs": []
    },
    {
      "cell_type": "code",
      "source": [
        "lista = [\"cosa\", \"casa\", \"sala\"]\n",
        "lista.sort ()\n",
        "print(lista)"
      ],
      "metadata": {
        "colab": {
          "base_uri": "https://localhost:8080/"
        },
        "id": "7eHihVCi9QKQ",
        "outputId": "0833ec1b-e51f-4e3b-cb16-aec1c47a7f86"
      },
      "execution_count": null,
      "outputs": [
        {
          "output_type": "stream",
          "name": "stdout",
          "text": [
            "['casa', 'cosa', 'sala']\n"
          ]
        }
      ]
    },
    {
      "cell_type": "code",
      "source": [
        "lenguajes = [\"Python\", \"java\", \"javaScript\"]\n",
        "print(\"Python\" in lenguajes)\n",
        "print(\"C++\" in lenguajes)\n"
      ],
      "metadata": {
        "colab": {
          "base_uri": "https://localhost:8080/"
        },
        "id": "ca20H9b29lCe",
        "outputId": "9b3b6393-ec21-4a3a-a626-537dd86123ec"
      },
      "execution_count": null,
      "outputs": [
        {
          "output_type": "stream",
          "name": "stdout",
          "text": [
            "True\n",
            "False\n"
          ]
        }
      ]
    },
    {
      "cell_type": "markdown",
      "source": [
        "# Recorrido de listas\n",
        "como las listas son objetos iterables las podemos recorrer con un ciclo **for**"
      ],
      "metadata": {
        "id": "nHof9sEd91-2"
      }
    },
    {
      "cell_type": "code",
      "source": [
        "numeros = [1, 2, 3, 4 ,5]\n",
        "print(numeros)\n",
        "for n in numeros:\n",
        "  print(n)\n"
      ],
      "metadata": {
        "colab": {
          "base_uri": "https://localhost:8080/"
        },
        "id": "Xoz938qH-AXO",
        "outputId": "ff812ea7-cf81-4dc4-bca8-4ffde4a0bb71"
      },
      "execution_count": null,
      "outputs": [
        {
          "output_type": "stream",
          "name": "stdout",
          "text": [
            "[1, 2, 3, 4, 5]\n",
            "1\n",
            "2\n",
            "3\n",
            "4\n",
            "5\n"
          ]
        }
      ]
    },
    {
      "cell_type": "markdown",
      "source": [
        "podemos recorrer la lista utilizando el metodo **len**"
      ],
      "metadata": {
        "id": "i6fWo0PI-0XW"
      }
    },
    {
      "cell_type": "code",
      "source": [
        "mi_lista = [4, 5, 6, 7]\n",
        "for indice in range (0, len(mi_lista)):\n",
        "  print(mi_lista[indice])"
      ],
      "metadata": {
        "colab": {
          "base_uri": "https://localhost:8080/"
        },
        "id": "CYzbxasH-SQI",
        "outputId": "dfa2e04f-e2d5-4f65-f8aa-dcff73d64480"
      },
      "execution_count": null,
      "outputs": [
        {
          "output_type": "stream",
          "name": "stdout",
          "text": [
            "4\n",
            "5\n",
            "6\n",
            "7\n"
          ]
        }
      ]
    },
    {
      "cell_type": "markdown",
      "source": [
        "podemos acceder al indice de cada elemento a través de la función **enumerate**"
      ],
      "metadata": {
        "id": "nY7oe4nf-4_X"
      }
    },
    {
      "cell_type": "code",
      "source": [
        "numeros =[3,29,42,34,54]\n",
        "for x,y in enumerate(numeros):\n",
        "  print(f\"En la posición x {x} encontramos el valor: {y}\")"
      ],
      "metadata": {
        "colab": {
          "base_uri": "https://localhost:8080/"
        },
        "id": "kzHiKOlt_BKe",
        "outputId": "cccfd112-f803-4382-a68d-a6b4d86ac148"
      },
      "execution_count": null,
      "outputs": [
        {
          "output_type": "stream",
          "name": "stdout",
          "text": [
            "En la posición x 0 encontramos el valor: 3\n",
            "En la posición x 1 encontramos el valor: 29\n",
            "En la posición x 2 encontramos el valor: 42\n",
            "En la posición x 3 encontramos el valor: 34\n",
            "En la posición x 4 encontramos el valor: 54\n"
          ]
        }
      ]
    },
    {
      "cell_type": "code",
      "source": [
        "letras = [\"A\", \"B\", \"C\", \"D\", \"E\"]\n",
        "for inidice,valor in enumerate(letras):\n",
        "  print(f\"En la posición x{inidice} encontramos el valor {valor}\")\n"
      ],
      "metadata": {
        "colab": {
          "base_uri": "https://localhost:8080/"
        },
        "id": "ClJF4Z2s_cX4",
        "outputId": "83814644-2610-4e75-a7c9-258d13415825"
      },
      "execution_count": null,
      "outputs": [
        {
          "output_type": "stream",
          "name": "stdout",
          "text": [
            "En la posición x0 encontramos el valor A\n",
            "En la posición x1 encontramos el valor B\n",
            "En la posición x2 encontramos el valor C\n",
            "En la posición x3 encontramos el valor D\n",
            "En la posición x4 encontramos el valor E\n"
          ]
        }
      ]
    },
    {
      "cell_type": "code",
      "source": [
        "lista = [2,36,76,23]\n",
        "ind = 0\n",
        "while ind < len(lista): #llegará hasta la longitud de la lista\n",
        "  print (lista[ind]) #imprime la posición de cada vuelta\n",
        "  ind+=1\n",
        "#cuando llegue a la posición 3 (23) se rompe el ciclo"
      ],
      "metadata": {
        "colab": {
          "base_uri": "https://localhost:8080/"
        },
        "id": "xq5nP_GFAF3v",
        "outputId": "6b771f11-bf16-4eb3-b940-5e43a466445d"
      },
      "execution_count": null,
      "outputs": [
        {
          "output_type": "stream",
          "name": "stdout",
          "text": [
            "2\n",
            "36\n",
            "76\n",
            "23\n"
          ]
        }
      ]
    },
    {
      "cell_type": "markdown",
      "source": [
        "se encuentran con dos lista y se desea recorrer de manera simultanea mostrando el valor de la dos en cada posicion, ¿ayudarias a terminar el codigos de tal forma que se obtenga el iguiente resultado?"
      ],
      "metadata": {
        "id": "XVtJk-eSBVdn"
      }
    },
    {
      "cell_type": "code",
      "source": [
        "lista = [\"ma\", \"me\", \"mi\", \"mo\", \"mu\"]\n",
        "lista2 = [\"pa\", \"pe\", \"pi\", \"po\", \"pu\"]\n",
        "ind = 0\n",
        "while ind < len(lista):  #llegará hasta la longitud de la lista\n",
        "  print (f\"{lista[ind]} - {lista2[ind]}\") #imprime la posición de cada vuelta de cada lista\n",
        "  ind+=1\n"
      ],
      "metadata": {
        "colab": {
          "base_uri": "https://localhost:8080/"
        },
        "id": "l4G-ucItCoYo",
        "outputId": "16a6538f-7b82-437f-9b47-5014e2c71aef"
      },
      "execution_count": null,
      "outputs": [
        {
          "output_type": "stream",
          "name": "stdout",
          "text": [
            "ma - pa\n",
            "me - pe\n",
            "mi - pi\n",
            "mo - po\n",
            "mu - pu\n"
          ]
        }
      ]
    },
    {
      "cell_type": "markdown",
      "source": [
        "con la función **zip** podemos iterar varias listas simultaneamente"
      ],
      "metadata": {
        "id": "CnMlXxmJFCGf"
      }
    },
    {
      "cell_type": "code",
      "source": [
        "lista = [\"ma\", \"me\", \"mi\", \"mo\", \"mu\"]\n",
        "lista2 = [\"pa\", \"pe\", \"pi\", \"po\"]\n",
        "lista3 = [\"ma\", \"me\", \"mi\", \"mo\", \"mu\"]\n",
        "lista4 = [\"pa\", \"pe\", \"pi\", \"po\"]\n",
        "\n",
        "for x in zip(lista,lista2,lista3,lista4):\n",
        "  print(x)"
      ],
      "metadata": {
        "colab": {
          "base_uri": "https://localhost:8080/"
        },
        "id": "8NWBAljbEihI",
        "outputId": "acb334ec-7041-42c2-b086-9b7a584ea20a"
      },
      "execution_count": null,
      "outputs": [
        {
          "output_type": "stream",
          "name": "stdout",
          "text": [
            "('ma', 'pa', 'ma', 'pa')\n",
            "('me', 'pe', 'me', 'pe')\n",
            "('mi', 'pi', 'mi', 'pi')\n",
            "('mo', 'po', 'mo', 'po')\n"
          ]
        }
      ]
    },
    {
      "cell_type": "markdown",
      "source": [
        "metodos aplicables a lista\n",
        "\n",
        "el metodo sort() nos permite ordenar lso elementos"
      ],
      "metadata": {
        "id": "bxfW-d_5FQhg"
      }
    },
    {
      "cell_type": "code",
      "source": [
        "mi_lista = [5,10,8,3,1,52]\n",
        "mi_lista.sort()\n",
        "print(mi_lista)"
      ],
      "metadata": {
        "colab": {
          "base_uri": "https://localhost:8080/"
        },
        "id": "FQoQpKNVE2JA",
        "outputId": "f69ddf60-6f18-4935-cdc1-4e025d8b9d52"
      },
      "execution_count": null,
      "outputs": [
        {
          "output_type": "stream",
          "name": "stdout",
          "text": [
            "[1, 3, 5, 8, 10, 52]\n"
          ]
        }
      ]
    },
    {
      "cell_type": "markdown",
      "source": [
        "podemos pasarle el siguiente metodo **reverse=True** al método **sort** para que ordene los elementos inversamente"
      ],
      "metadata": {
        "id": "9IylzEETF0XQ"
      }
    },
    {
      "cell_type": "code",
      "source": [
        "mi_lista = [5,10,8,3,1,52]\n",
        "mi_lista.sort(reverse=True)\n",
        "print(mi_lista)"
      ],
      "metadata": {
        "colab": {
          "base_uri": "https://localhost:8080/"
        },
        "id": "MAd_8I0XFntR",
        "outputId": "f0c6db40-db6c-4237-b0dd-0125a9fea1fc"
      },
      "execution_count": null,
      "outputs": [
        {
          "output_type": "stream",
          "name": "stdout",
          "text": [
            "[52, 10, 8, 5, 3, 1]\n"
          ]
        }
      ]
    },
    {
      "cell_type": "markdown",
      "source": [
        "el metodo **reverse()** recibe como argumento un objeto y lo borra de la lista"
      ],
      "metadata": {
        "id": "tHNeS_CsGBYQ"
      }
    },
    {
      "cell_type": "code",
      "source": [
        "lenguajes = [\"python\", \"java\", \"javaScript\"]\n",
        "lenguajes.remove (\"java\")\n",
        "print(lenguajes)"
      ],
      "metadata": {
        "colab": {
          "base_uri": "https://localhost:8080/"
        },
        "id": "HsX6SfCNGHRo",
        "outputId": "dc50ecde-b5ee-4618-8deb-0e48bef6a042"
      },
      "execution_count": null,
      "outputs": [
        {
          "output_type": "stream",
          "name": "stdout",
          "text": [
            "['python', 'javaScript']\n"
          ]
        }
      ]
    },
    {
      "cell_type": "markdown",
      "source": [],
      "metadata": {
        "id": "qcKYuQm8Gw2g"
      }
    },
    {
      "cell_type": "code",
      "source": [
        "lenguajes = [\"python\", \"java\", \"javaScript\"]\n",
        "del lenguajes [1]\n",
        "print(lenguajes)"
      ],
      "metadata": {
        "colab": {
          "base_uri": "https://localhost:8080/"
        },
        "id": "c7gVYWU2GXXq",
        "outputId": "d1f89adb-1c2b-4e01-94f6-e671344f02f0"
      },
      "execution_count": null,
      "outputs": [
        {
          "output_type": "stream",
          "name": "stdout",
          "text": [
            "['python', 'javaScript']\n"
          ]
        }
      ]
    },
    {
      "cell_type": "markdown",
      "source": [
        "el metodo **reverse()** invierte el contenido de la lista\n"
      ],
      "metadata": {
        "id": "g_xmK6y5GuiR"
      }
    },
    {
      "cell_type": "code",
      "source": [
        "lenguajes = [\"python\", \"java\", \"javaScript\"]\n",
        "lenguajes.reverse ()\n",
        "print(lenguajes)"
      ],
      "metadata": {
        "colab": {
          "base_uri": "https://localhost:8080/"
        },
        "id": "jlUpOyGpGqtn",
        "outputId": "d3754669-a67f-47cb-8a93-04d8b17cb92d"
      },
      "execution_count": null,
      "outputs": [
        {
          "output_type": "stream",
          "name": "stdout",
          "text": [
            "['javaScript', 'java', 'python']\n"
          ]
        }
      ]
    },
    {
      "cell_type": "code",
      "source": [
        "cadena = \"HOLA MUNDO SENA\"\n",
        "print (cadena[::-1])"
      ],
      "metadata": {
        "colab": {
          "base_uri": "https://localhost:8080/"
        },
        "id": "gNBycsl8GkJZ",
        "outputId": "5e3f0cc6-6eb9-4ccf-c457-cc81b5cc5e22"
      },
      "execution_count": null,
      "outputs": [
        {
          "output_type": "stream",
          "name": "stdout",
          "text": [
            "ANES ODNUM ALOH\n"
          ]
        }
      ]
    },
    {
      "cell_type": "code",
      "source": [
        "cadena=\"HOLA MUNDO SENA\"\n",
        "lista =list(cadena)#volvió una lista la cadena\n",
        "print(lista)\n",
        "lista.reverse()#hace que la cadena se haga al revés\n",
        "print(lista)\n",
        "cadena = \"\".join(lista)#reunir jcada letra de la cadena en una sola palabra\n",
        "print(cadena)"
      ],
      "metadata": {
        "colab": {
          "base_uri": "https://localhost:8080/"
        },
        "id": "yuxIH7tBHP5o",
        "outputId": "28617241-0b6f-463f-e6a7-902ddbcea7d6"
      },
      "execution_count": null,
      "outputs": [
        {
          "output_type": "stream",
          "name": "stdout",
          "text": [
            "['H', 'O', 'L', 'A', ' ', 'M', 'U', 'N', 'D', 'O', ' ', 'S', 'E', 'N', 'A']\n",
            "['A', 'N', 'E', 'S', ' ', 'O', 'D', 'N', 'U', 'M', ' ', 'A', 'L', 'O', 'H']\n",
            "ANES ODNUM ALOH\n"
          ]
        }
      ]
    },
    {
      "cell_type": "markdown",
      "source": [
        "**otros metodos para listas**"
      ],
      "metadata": {
        "id": "ydDnyQeuHvBY"
      }
    },
    {
      "cell_type": "markdown",
      "source": [
        "clear()\n",
        "Vacía todos los ítems de una lista:\n",
        "lista.clear()\n",
        "[]\n",
        "extend()\n",
        "Une una lista a otra:\n",
        "11 = [1,2,3]\n",
        "12 = [4,5,6]\n",
        "11.extend(12)\n",
        "[1, 2, 3, 4, 5, 6]\n",
        "count()\n",
        "Cuenta el número de veces que aparece un item:\n",
        "[\"Hola\", \"mundo\", \"mundo\"].count(\"Hola\")\n",
        "1\n",
        "index()\n",
        "Devuelve el índice en el que aparece un ítem (error si no aparece): [\"Hola\", \"mundo\", \"mundo\"].index(\"mundo\")\n",
        "1\n",
        "pop()\n",
        "Extrae un item de la lista y lo borra:\n",
        "1 = [10, 20, 30, 40, 50]\n",
        "print(l.pop())\n",
        "50\n",
        "[10, 20, 30, 40]*"
      ],
      "metadata": {
        "id": "PB5VI1jPIXCg"
      }
    },
    {
      "cell_type": "markdown",
      "source": [
        "#Tuplas"
      ],
      "metadata": {
        "id": "KQh1nejzIarB"
      }
    },
    {
      "cell_type": "markdown",
      "source": [
        "las tuplas son similares a las listas pero las tuplas **no se pueden cambiar**\n",
        "se acceden por medio de las posiciones\n",
        "\n",
        "¨**ventaja:** en cuanto a seguridad, un usuario no podría cambiar los datos de una tupla\n"
      ],
      "metadata": {
        "id": "yNzb74ZqIddJ"
      }
    },
    {
      "cell_type": "code",
      "source": [
        "mi_tupla = (\"a\", \"b\", \"c\", \"d\")\n",
        "#print(type(mi_tupla))\n",
        "print(mi_tupla[1])\n",
        "print(mi_tupla[1:3])\n",
        "print(mi_tupla[:-1])#inicia por defecto en la poscion 0 (\"a\")"
      ],
      "metadata": {
        "colab": {
          "base_uri": "https://localhost:8080/"
        },
        "id": "DLOUI4uSHNHJ",
        "outputId": "cc4a8089-4519-4338-f244-5b0b114fa6f3"
      },
      "execution_count": null,
      "outputs": [
        {
          "output_type": "stream",
          "name": "stdout",
          "text": [
            "b\n",
            "('b', 'c')\n",
            "('a', 'b', 'c')\n"
          ]
        }
      ]
    },
    {
      "cell_type": "code",
      "source": [
        "mi_tupla = (\"a\", \"b\", \"c\", \"d\")\n",
        "mi_tupla[0] = \"z\"\n",
        "print(mi_tupla)"
      ],
      "metadata": {
        "colab": {
          "base_uri": "https://localhost:8080/",
          "height": 176
        },
        "id": "jMjJkY1SJUV6",
        "outputId": "2a6c8f45-6cb4-4004-f81c-e2d501027811"
      },
      "execution_count": null,
      "outputs": [
        {
          "output_type": "error",
          "ename": "TypeError",
          "evalue": "'tuple' object does not support item assignment",
          "traceback": [
            "\u001b[0;31m---------------------------------------------------------------------------\u001b[0m",
            "\u001b[0;31mTypeError\u001b[0m                                 Traceback (most recent call last)",
            "\u001b[0;32m<ipython-input-82-a366fd327e25>\u001b[0m in \u001b[0;36m<cell line: 0>\u001b[0;34m()\u001b[0m\n\u001b[1;32m      1\u001b[0m \u001b[0mmi_tupla\u001b[0m \u001b[0;34m=\u001b[0m \u001b[0;34m(\u001b[0m\u001b[0;34m\"z\"\u001b[0m\u001b[0;34m,\u001b[0m\u001b[0;34m\"a\"\u001b[0m\u001b[0;34m,\u001b[0m \u001b[0;34m\"b\"\u001b[0m\u001b[0;34m,\u001b[0m \u001b[0;34m\"c\"\u001b[0m\u001b[0;34m,\u001b[0m \u001b[0;34m\"d\"\u001b[0m\u001b[0;34m)\u001b[0m\u001b[0;34m\u001b[0m\u001b[0;34m\u001b[0m\u001b[0m\n\u001b[0;32m----> 2\u001b[0;31m \u001b[0mmi_tupla\u001b[0m\u001b[0;34m[\u001b[0m\u001b[0;36m0\u001b[0m\u001b[0;34m]\u001b[0m \u001b[0;34m=\u001b[0m \u001b[0;34m\"z\"\u001b[0m\u001b[0;34m\u001b[0m\u001b[0;34m\u001b[0m\u001b[0m\n\u001b[0m\u001b[1;32m      3\u001b[0m \u001b[0mprint\u001b[0m\u001b[0;34m(\u001b[0m\u001b[0mmi_tupla\u001b[0m\u001b[0;34m)\u001b[0m\u001b[0;34m\u001b[0m\u001b[0;34m\u001b[0m\u001b[0m\n",
            "\u001b[0;31mTypeError\u001b[0m: 'tuple' object does not support item assignment"
          ]
        }
      ]
    },
    {
      "cell_type": "code",
      "source": [
        "mi_tupla = (100,'hola',[1,2,3], -50)\n",
        "print(mi_tupla[2][-1])#en la posción 2 se encuentra [], y en esa cadena de número vamos al final con el -3\n",
        "mi_tupla = (100, \"hola\", (1, (200, \"D\", [\"X\", \"Y\", \"Z\"])), (1,2,3), -50)\n",
        "print(mi_tupla[2][1][2][1])\n"
      ],
      "metadata": {
        "colab": {
          "base_uri": "https://localhost:8080/"
        },
        "id": "mOJeNoEjKF9w",
        "outputId": "d4709e99-ccb4-4174-e101-d43c061421ce"
      },
      "execution_count": null,
      "outputs": [
        {
          "output_type": "stream",
          "name": "stdout",
          "text": [
            "3\n",
            "Y\n"
          ]
        }
      ]
    },
    {
      "cell_type": "markdown",
      "source": [
        ":"
      ],
      "metadata": {
        "id": "YyX27U_XMjmh"
      }
    },
    {
      "cell_type": "code",
      "source": [
        "mi_tupla = (1,2,3,4,5,6,7,8,9,2,52,6,3,9,2,4,7,8,2)\n",
        "print(mi_tupla.count(2))"
      ],
      "metadata": {
        "colab": {
          "base_uri": "https://localhost:8080/"
        },
        "id": "KJOjT1H4KRfQ",
        "outputId": "134567d8-8a2f-44d8-f2a8-1c36fce2494d"
      },
      "execution_count": null,
      "outputs": [
        {
          "output_type": "stream",
          "name": "stdout",
          "text": [
            "4\n"
          ]
        }
      ]
    },
    {
      "cell_type": "code",
      "source": [
        "mi_tupla = (1,2,3,4,5,6,7,8,9,2,52,6,3,9,2,4,7,8,2)\n",
        "mi_tupla.sort()\n",
        "print(mi_tupla)"
      ],
      "metadata": {
        "colab": {
          "base_uri": "https://localhost:8080/",
          "height": 176
        },
        "id": "20ZkUIxPMrrs",
        "outputId": "145ab4bc-7e39-47b1-b8a9-e3d21fdc95a5"
      },
      "execution_count": null,
      "outputs": [
        {
          "output_type": "error",
          "ename": "AttributeError",
          "evalue": "'tuple' object has no attribute 'sort'",
          "traceback": [
            "\u001b[0;31m---------------------------------------------------------------------------\u001b[0m",
            "\u001b[0;31mAttributeError\u001b[0m                            Traceback (most recent call last)",
            "\u001b[0;32m<ipython-input-104-29b53fc59bb6>\u001b[0m in \u001b[0;36m<cell line: 0>\u001b[0;34m()\u001b[0m\n\u001b[1;32m      1\u001b[0m \u001b[0mmi_tupla\u001b[0m \u001b[0;34m=\u001b[0m \u001b[0;34m(\u001b[0m\u001b[0;36m1\u001b[0m\u001b[0;34m,\u001b[0m\u001b[0;36m2\u001b[0m\u001b[0;34m,\u001b[0m\u001b[0;36m3\u001b[0m\u001b[0;34m,\u001b[0m\u001b[0;36m4\u001b[0m\u001b[0;34m,\u001b[0m\u001b[0;36m5\u001b[0m\u001b[0;34m,\u001b[0m\u001b[0;36m6\u001b[0m\u001b[0;34m,\u001b[0m\u001b[0;36m7\u001b[0m\u001b[0;34m,\u001b[0m\u001b[0;36m8\u001b[0m\u001b[0;34m,\u001b[0m\u001b[0;36m9\u001b[0m\u001b[0;34m,\u001b[0m\u001b[0;36m2\u001b[0m\u001b[0;34m,\u001b[0m\u001b[0;36m52\u001b[0m\u001b[0;34m,\u001b[0m\u001b[0;36m6\u001b[0m\u001b[0;34m,\u001b[0m\u001b[0;36m3\u001b[0m\u001b[0;34m,\u001b[0m\u001b[0;36m9\u001b[0m\u001b[0;34m,\u001b[0m\u001b[0;36m2\u001b[0m\u001b[0;34m,\u001b[0m\u001b[0;36m4\u001b[0m\u001b[0;34m,\u001b[0m\u001b[0;36m7\u001b[0m\u001b[0;34m,\u001b[0m\u001b[0;36m8\u001b[0m\u001b[0;34m,\u001b[0m\u001b[0;36m2\u001b[0m\u001b[0;34m)\u001b[0m\u001b[0;34m\u001b[0m\u001b[0;34m\u001b[0m\u001b[0m\n\u001b[0;32m----> 2\u001b[0;31m \u001b[0mmi_tupla\u001b[0m\u001b[0;34m.\u001b[0m\u001b[0msort\u001b[0m\u001b[0;34m(\u001b[0m\u001b[0;34m)\u001b[0m\u001b[0;34m\u001b[0m\u001b[0;34m\u001b[0m\u001b[0m\n\u001b[0m\u001b[1;32m      3\u001b[0m \u001b[0mprint\u001b[0m\u001b[0;34m(\u001b[0m\u001b[0mmi_tupla\u001b[0m\u001b[0;34m)\u001b[0m\u001b[0;34m\u001b[0m\u001b[0;34m\u001b[0m\u001b[0m\n",
            "\u001b[0;31mAttributeError\u001b[0m: 'tuple' object has no attribute 'sort'"
          ]
        }
      ]
    },
    {
      "cell_type": "code",
      "source": [
        "mi_tupla =  tuple (\"amoamimama\")\n",
        "print(mi_tupla)"
      ],
      "metadata": {
        "colab": {
          "base_uri": "https://localhost:8080/"
        },
        "id": "sAOJieEvM0CN",
        "outputId": "f582f059-03f2-4bab-fc68-b4433fcaa459"
      },
      "execution_count": null,
      "outputs": [
        {
          "output_type": "stream",
          "name": "stdout",
          "text": [
            "('a', 'm', 'o', 'a', 'm', 'i', 'm', 'a', 'm', 'a')\n"
          ]
        }
      ]
    },
    {
      "cell_type": "code",
      "source": [
        "mi_tupla = tuple ( input(\"INGRESE UNA FRASE: \"))\n",
        "print(mi_tupla)\n",
        "print(f\"la cantidad de elementos que tiene la tupla es: {len(mi_tupla)}\")\n",
        "\n",
        "for dato in mi_tupla:\n",
        "  print(dato)"
      ],
      "metadata": {
        "colab": {
          "base_uri": "https://localhost:8080/"
        },
        "id": "8ElnTsYjM_Hz",
        "outputId": "fc199515-77a7-4c12-bcc9-31b52eed65ee"
      },
      "execution_count": null,
      "outputs": [
        {
          "output_type": "stream",
          "name": "stdout",
          "text": [
            "INGRESE UNA FRASE: msjdkajjs\n",
            "('m', 's', 'j', 'd', 'k', 'a', 'j', 'j', 's')\n",
            "la cantidad de elementos que tiene la tupla es: 9\n",
            "m\n",
            "s\n",
            "j\n",
            "d\n",
            "k\n",
            "a\n",
            "j\n",
            "j\n",
            "s\n"
          ]
        }
      ]
    },
    {
      "cell_type": "markdown",
      "source": [
        "##Paso de tupla a lista y viceversa"
      ],
      "metadata": {
        "id": "4rIEtsyTNl4B"
      }
    },
    {
      "cell_type": "code",
      "source": [
        "#de lista a tupla\n",
        "mi_lista= [1,2,3,4,5]\n",
        "mi_tupla = tuple(mi_lista)\n",
        "print(mi_tupla)"
      ],
      "metadata": {
        "colab": {
          "base_uri": "https://localhost:8080/"
        },
        "id": "DODOXHGANsBB",
        "outputId": "06409ba2-73ba-4bde-8892-889b51c668ab"
      },
      "execution_count": null,
      "outputs": [
        {
          "output_type": "stream",
          "name": "stdout",
          "text": [
            "(1, 2, 3, 4, 5)\n"
          ]
        }
      ]
    },
    {
      "cell_type": "code",
      "source": [
        "#de tupla a lista\n",
        "mi_tupla= [1,2,3,4,5]\n",
        "mi_lista = list(mi_tupla)\n",
        "print(mi_lista)"
      ],
      "metadata": {
        "colab": {
          "base_uri": "https://localhost:8080/"
        },
        "id": "_wXQOOkxNqXR",
        "outputId": "36abc794-c164-4a4f-9e7e-482c7c021c85"
      },
      "execution_count": null,
      "outputs": [
        {
          "output_type": "stream",
          "name": "stdout",
          "text": [
            "[1, 2, 3, 4, 5]\n"
          ]
        }
      ]
    },
    {
      "cell_type": "code",
      "source": [
        "mi_tupla =(3,4,5,6,15,20,63,4,2,8,9)\n",
        "mi_lista = list(mi_tupla)\n",
        "mi_lista.sort()\n",
        "mi_tupla =tuple(mi_lista)\n",
        "print(mi_tupla)"
      ],
      "metadata": {
        "colab": {
          "base_uri": "https://localhost:8080/"
        },
        "id": "DuG1CVQnOKPy",
        "outputId": "d868946d-e378-4a78-f152-ca6da0829394"
      },
      "execution_count": null,
      "outputs": [
        {
          "output_type": "stream",
          "name": "stdout",
          "text": [
            "(2, 3, 4, 4, 5, 6, 8, 9, 15, 20, 63)\n"
          ]
        }
      ]
    },
    {
      "cell_type": "markdown",
      "source": [
        "##apropiación"
      ],
      "metadata": {
        "id": "ML9hxrWpcVT1"
      }
    },
    {
      "cell_type": "markdown",
      "source": [
        "1. Pregunte al usuario cuántos elementos desea ingresar en una lista, luego solicite cada uno de ellos y presente el contenido de la lista y su contenido invertido."
      ],
      "metadata": {
        "id": "4ZrTwUf3cfPN"
      }
    },
    {
      "cell_type": "code",
      "source": [
        "can_elementos = int(input('¿cuántos elementos desea ingresar en una lista?: '))\n",
        "mi_lista =[]#hace que haya un espacio para los elementos de la lista\n",
        "\n",
        "for indice1 in range(can_elementos): #va a llegar hasta la cantidad de elementos que haya ingresado el usuario\n",
        "  elementos2 = int(input('Ingrese los numeros(elementos3) que quiere en la lista: '))\n",
        "  mi_lista.append(elementos2)\n",
        "  print(mi_lista)\n",
        "  mi_lista.reverse()\n",
        "  print(mi_lista)\n"
      ],
      "metadata": {
        "colab": {
          "base_uri": "https://localhost:8080/"
        },
        "id": "Crkr9hSXcuG2",
        "outputId": "fa471f83-2942-42e1-904a-999b632cc6a0"
      },
      "execution_count": null,
      "outputs": [
        {
          "output_type": "stream",
          "name": "stdout",
          "text": [
            "¿cuántos elementos desea ingresar en una lista?: 3\n",
            "Ingrese los numeros(elementos) que quiere en la lista: 2\n",
            "[2]\n",
            "[2]\n",
            "Ingrese los numeros(elementos) que quiere en la lista: 2\n",
            "[2, 2]\n",
            "[2, 2]\n",
            "Ingrese los numeros(elementos) que quiere en la lista: 4333\n",
            "[2, 2, 4333]\n",
            "[4333, 2, 2]\n"
          ]
        }
      ]
    },
    {
      "cell_type": "markdown",
      "source": [
        "2. Crear una lista de números y solicitar un número. Borrar de la lista ese número en todas las posiciones donde se encuentre. Presentar la lista final"
      ],
      "metadata": {
        "id": "ztghJVWVcgbl"
      }
    },
    {
      "cell_type": "code",
      "source": [
        "mi_lista = [1,2,3,4,5,6,7,8,9]\n",
        "num = int(input('dinos un número del 1-9: '))\n",
        "mi_lista.remove(num)\n",
        "print(f\"Se ha eliminado el valor: {num}\\n la lista ha quedado{mi_lista}\")"
      ],
      "metadata": {
        "colab": {
          "base_uri": "https://localhost:8080/"
        },
        "id": "iS-ZIougluuI",
        "outputId": "f321fa83-cc3e-4d8e-b3aa-1f6287fa0594"
      },
      "execution_count": null,
      "outputs": [
        {
          "output_type": "stream",
          "name": "stdout",
          "text": [
            "dinos un número del 1-9: 3\n",
            "Se ha eliminado el valor 3\n",
            " la lista ha quedado[1, 2, 4, 5, 6, 7, 8, 9]\n"
          ]
        }
      ]
    },
    {
      "cell_type": "markdown",
      "source": [
        "Solicite al usuario dos(2) frases y devuelva una lista con todas las letras que se repiten en la misma posición de ambas listas"
      ],
      "metadata": {
        "id": "c1SZHcIhoivq"
      }
    },
    {
      "cell_type": "code",
      "source": [
        "frase1 = input(\"Ingrese una frase: \")\n",
        "frase2 = input(\"Ingrese otra frase: \")\n",
        "letras_repetidas = []#hacer que letras repetidas sea una lista\n",
        "\n",
        "#que la longitud sea la minima de una de las frases\n",
        "longitud = min(len(frase1), len(frase2))\n",
        "\n",
        "# Comparar las letras en la misma posicion\n",
        "for i in range(longitud):\n",
        "    if frase1[i] == frase2[i]:#compara cada letra de la frase\n",
        "        letras_repetidas.append(frase1[i])\n",
        "\n",
        "print(\"Letras repetidas en la misma posición:\", letras_repetidas)\n"
      ],
      "metadata": {
        "colab": {
          "base_uri": "https://localhost:8080/"
        },
        "id": "zyPRSbyxojoK",
        "outputId": "8bcd4056-b757-42cb-99de-38446f75f0e2"
      },
      "execution_count": null,
      "outputs": [
        {
          "output_type": "stream",
          "name": "stdout",
          "text": [
            "Ingrese una frase: hola como estas\n",
            "Ingrese otra frase: hola estas vas\n",
            "Letras repetidas en la misma posición: ['h', 'o', 'l', 'a', ' ']\n"
          ]
        }
      ]
    }
  ]
}