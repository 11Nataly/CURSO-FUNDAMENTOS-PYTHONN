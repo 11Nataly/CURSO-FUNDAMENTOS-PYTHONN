{
  "cells": [
    {
      "cell_type": "markdown",
      "metadata": {
        "id": "jUTwq9pQ63oK"
      },
      "source": [
        "1. Procesamiento de Números del 1 al 20 Se requiere desarrollar un programa que trabaje con los números comprendidos entre el 1 y el 20, de forma que se identifiquen y muestren aquellos que sean divisibles por dos, acompañados de su posición en la secuencia. Además, el sistema debe recorrer la colección para determinar cuántos números no cumplen esa propiedad y calcular la suma de los que sí la cumplen. El objetivo es diseñar la lógica necesaria para examinar y procesar los números según las condiciones indicadas."
      ]
    },
    {
      "cell_type": "code",
      "execution_count": null,
      "metadata": {
        "colab": {
          "base_uri": "https://localhost:8080/"
        },
        "id": "Ul7ONXPV503U",
        "outputId": "a88af674-69b1-4aa9-b029-9fd8928a2b47"
      },
      "outputs": [
        {
          "name": "stdout",
          "output_type": "stream",
          "text": [
            "[1, 2, 3, 4, 5, 6, 7, 8, 9, 10, 11, 12, 13, 14, 15, 16, 17, 18, 19, 20]\n",
            "En la posición: 1 encontramos el valor: 2\n",
            "En la posición: 3 encontramos el valor: 4\n",
            "En la posición: 5 encontramos el valor: 6\n",
            "En la posición: 7 encontramos el valor: 8\n",
            "En la posición: 9 encontramos el valor: 10\n",
            "En la posición: 11 encontramos el valor: 12\n",
            "En la posición: 13 encontramos el valor: 14\n",
            "En la posición: 15 encontramos el valor: 16\n",
            "En la posición: 17 encontramos el valor: 18\n",
            "En la posición: 19 encontramos el valor: 20\n",
            "esta es la suma de todos los números pares 110\n",
            "la cantidad de números no pares es: 10 \n"
          ]
        }
      ],
      "source": [
        "numeros = list(range(1,21)) #hace el rango de datos para la lista de 1 al 20\n",
        "print(numeros)\n",
        "\n",
        "numero_par = []\n",
        "no_par =0\n",
        "\n",
        "for x,y in enumerate(numeros):\n",
        "  if y%2==0:#evalua si cada número es divisible por 2(que de residuo 0)\n",
        "    numero_par.append(int(y)) #colocar que agregue al final de la lista \"numero_par\" el número par\n",
        "    suma= sum(numero_par)#sumar los números que si cumplen la condición con la función sum()\n",
        "    print(f\"En la posición: {x} encontramos el valor: {y}\")#imprime la posicion y el número\n",
        "  else:\n",
        "    no_par+=1#para incrementar el contador cada vez que encuentre un número impar\n",
        "\n",
        "print(f\"esta es la suma de todos los números pares {suma}\")\n",
        "print(f\"la cantidad de números no pares es: {no_par} \")"
      ]
    },
    {
      "cell_type": "markdown",
      "metadata": {
        "id": "9N0HwYa25_ME"
      },
      "source": [
        "2. Administración de Actividades Diarias Imagina una aplicación para gestionar las actividades cotidianas de una persona, donde se disponga de una serie de tareas, algunas de las cuales indican que ya han sido concluidas. El desafío consiste en presentar cada actividad junto a su posición en la colección, filtrar aquellas que contengan una marca de finalización y actualizar el conjunto de actividades. Finalmente, se debe exhibir el estado del conjunto antes y después de aplicar el filtro, permitiendo al usuario observar los cambios realizados."
      ]
    },
    {
      "cell_type": "code",
      "execution_count": null,
      "metadata": {
        "colab": {
          "base_uri": "https://localhost:8080/"
        },
        "id": "4OlLmOe96CNj",
        "outputId": "3f3cfb6d-49be-464f-980a-3265fe83d8cb"
      },
      "outputs": [
        {
          "name": "stdout",
          "output_type": "stream",
          "text": [
            "En la posición: 0 encontramos la tarea: estudiar para el examen\n",
            "En la posición: 1 encontramos la tarea: ir al parque\n",
            "En la posición: 2 encontramos la tarea: comprar  lo del mercado\n",
            "En la posición: 3 encontramos la tarea: bañarme\n",
            "En la posición: 4 encontramos la tarea: ver pelicula\n",
            "En la posición: 5 encontramos la tarea: almorzar a las 2\n",
            "En la posición: 6 encontramos la tarea: tomar agua\n",
            "\n",
            " estas son las tareas completadas: \n",
            " ('estudiar para el examen', 'ir al parque', 'almorzar a las 2', 'tomar agua')\n",
            "estas son las tareas que faltan por completar: \n",
            " ('bañarme', 'comprar  lo del mercado', 'ver pelicula')\n"
          ]
        }
      ],
      "source": [
        "tareas = [\"estudiar para el examen\",\"ir al parque\",\"comprar  lo del mercado\",\"bañarme\",\"ver pelicula\",\"almorzar a las 2\",\"tomar agua\"]\n",
        "\n",
        "#filtrar tareas\n",
        "#almacenar en variables las tareas completadas y las no completadas usando su indice\n",
        "completada = (tareas[0],tareas[1], tareas[5],tareas[6])\n",
        "no_completada =(tareas[3],tareas[2],tareas[4])\n",
        "\n",
        "#enumer todas las tareas con su posicion\n",
        "for x,y in enumerate(tareas):\n",
        "    print(f\"En la posición: {x} encontramos la tarea: {y}\")\n",
        "\n",
        "#actualizacion del conjunto de actividades\n",
        "print(f\"\\n estas son las tareas completadas: \\n {completada}\")\n",
        "print(f\"estas son las tareas que faltan por completar: \\n {no_completada}\")"
      ]
    },
    {
      "cell_type": "markdown",
      "metadata": {
        "id": "oI5qoswB6FWM"
      },
      "source": [
        "3. Filtrado y Transformación de Texto Propón un sistema en el que se solicite al usuario una secuencia de caracteres. A partir de la entrada, se debe descomponer el texto en sus componentes individuales y extraer únicamente aquellos que correspondan a letras del alfabeto, omitiendo números y símbolos. Una vez realizado este filtrado, la colección resultante deberá ser convertida en una estructura que no permita modificaciones, y el resultado final se debe mostrar al usuario."
      ]
    },
    {
      "cell_type": "code",
      "execution_count": null,
      "metadata": {
        "id": "0Y3PvvMT6IGk"
      },
      "outputs": [],
      "source": [
        "caracteres= input(\"ingrese una frase: \")#dividir los caracteres que ingrese en cada elemento\n",
        "caracteresUser = list(caracteres)#guardar cada elemento en una lista\n",
        "\n",
        "letras_alfabeto=[]\n",
        "print(caracteresUser)\n",
        "#almacenar las letras del alfabeto en una tupla\n",
        "#carac es la variable que va a guardar cada caracter individual de cada vuelta\n",
        "letras_alfabeto= tuple(carac for carac in caracteresUser if carac.isalpha())\n",
        "\n",
        "print(\"Letras del abecedario en la frase: \", letras_alfabeto )"
      ]
    },
    {
      "cell_type": "markdown",
      "metadata": {
        "id": "fIe5OmDR6Lc0"
      },
      "source": [
        "4. Informe Interactivo de Alumnos Considera dos conjuntos de datos paralelos: uno con nombres de estudiantes y otro con sus respectivas calificaciones. El reto consiste en elaborar un informe que relacione cada alumno con su nota, presentando también la posición de cada registro. Posteriormente, el sistema debe permitir al usuario consultar la nota de un alumno específico introduciendo la posición correspondiente, finalizando la consulta si se ingresa un valor fuera del rango válido. La solución deberá vincular ambas colecciones de manera sincronizada y ofrecer una interacción dinámica."
      ]
    },
    {
      "cell_type": "code",
      "execution_count": null,
      "metadata": {
        "colab": {
          "background_save": true,
          "base_uri": "https://localhost:8080/"
        },
        "id": "cQ9woQEO4BbF",
        "outputId": "51f50c3d-5f8a-404f-8266-38303eff61bc"
      },
      "outputs": [
        {
          "name": "stdout",
          "output_type": "stream",
          "text": [
            "En la posición: 0\n",
            "encontramos el estudiante: Juan con la calificacion: 8\n",
            "En la posición: 1\n",
            "encontramos el estudiante: Maria con la calificacion: 3\n",
            "En la posición: 2\n",
            "encontramos el estudiante: Pepito con la calificacion: 2.4\n",
            "En la posición: 3\n",
            "encontramos el estudiante: Oscar con la calificacion: 7\n",
            "En la posición: 4\n",
            "encontramos el estudiante: Manuel con la calificacion: 6\n",
            "En la posición: 5\n",
            "encontramos el estudiante: Monica con la calificacion: 9\n"
          ]
        }
      ],
      "source": [
        "nom_estudiantes = [\"Juan\", \"Maria\", \"Pepito\", \"Oscar\", \"Manuel\", \"Monica\"]\n",
        "cal_estudiantes = [8, 3, 2.4, 7, 6, 9]\n",
        "\n",
        "#informe que presenta posicion de cada alumno y relaciona su nota con su posicion\n",
        "#zip une la lista con cada indice [0],[0]: (ej: juan, 8), enumerate presenta el indice de la posicion del elemento combinado\n",
        "#en el segundo elemento del for, el nombre y calificacion me está diciendo que puede presentar por separado\n",
        "#lo valores que unimos en el zip\n",
        "for x, (nombre, calificacion) in enumerate(zip(nom_estudiantes, cal_estudiantes)):\n",
        "    print(f\"En la posición: {x}\\nencontramos el estudiante: {nombre} con la calificacion: {calificacion}\")\n",
        "\n",
        "    #hacer un bucle mientras se mantenga dentro del rango (mientras cumpla el if)\n",
        "while True:\n",
        "    consulta = int(input(\"Ingrese la posición correspondiente para consultar la nota de un alumno (o un número fuera del rango para salir): \"))\n",
        "    # Verificar si la posición que ingreso el usuario esta entre el rango de posiciones\n",
        "    if 0 <= consulta < len(nom_estudiantes):\n",
        "      #nom_estudiantes[consulta] accede a la lista de estudiantes con el indice dado en la consulta y cal hace lo mismo para obtener la calificacion\n",
        "        print(f\"\\nEl alumno en la posición {consulta}\\nse llama {nom_estudiantes[consulta]} y su calificación es: {cal_estudiantes[consulta]}\")\n",
        "    else:\n",
        "        print(\"Posición fuera del rango. Saliendo de la consulta.\")\n",
        "        break #si ingresa algo fuera de rango se sale de la consulta"
      ]
    },
    {
      "cell_type": "markdown",
      "metadata": {
        "id": "zHE39zK54PJE"
      },
      "source": [
        "5. Aplicación de Operaciones sobre Valores Numéricos Diseña una aplicación que inicie con una serie de valores numéricos predefinidos. El usuario interactuará mediante un menú que le permita realizar distintas operaciones: calcular la suma total de los valores, reordenarlos según un criterio específico o eliminar uno de ellos según una indicación. La interfaz deberá ofrecer la posibilidad de repetir estas acciones hasta que el usuario decida finalizar. El desafío es organizar el flujo de la interacción y manipular la colección de números de acuerdo a la opción elegida.."
      ]
    },
    {
      "cell_type": "code",
      "execution_count": null,
      "metadata": {
        "id": "FZL_lETi4Ox0"
      },
      "outputs": [],
      "source": [
        "numeros = [45,6,7,8,91,10,11]\n",
        "\n",
        "while True:\n",
        "  print(\"Acciones que puede realizar: \")\n",
        "  print(\"1.calcular la suma total de los valores \")\n",
        "  print(\"2.reordenarlos según un criterio específico  \")\n",
        "  print(\"3.eliminar uno de ellos según una indicación \")\n",
        "  print(\"\\n4. finalizar el programa\")\n",
        "\n",
        "  opcion = int(input(\"Ingrese el número de la accion que desea realizar:\"))\n",
        "\n",
        "#hacer un tipo de switch\n",
        "  if opcion ==1:\n",
        "     suma= sum(numeros)\n",
        "     print(f\"La suma de todos los numeros es igual a: {suma}\")\n",
        "  elif opcion ==2:\n",
        "    numeros.sort()\n",
        "    print(f\"Reordenación de los número de menor a mayor {numeros}\")\n",
        "  elif opcion ==3:\n",
        "    num_remove= int(input(f\"Elija el número que desea eliminar: {numeros}\"))\n",
        "    numeros.remove(num_remove)\n",
        "    print(numeros)\n",
        "  elif opcion ==4:\n",
        "    print(\"finalizando el programa...\")\n",
        "    break #finaliza el bucle\n",
        "  else:\n",
        "    print(\"opcion no valida, vuelva a ingresar la opción\")\n",
        "    continue"
      ]
    },
    {
      "cell_type": "code",
      "execution_count": null,
      "metadata": {
        "colab": {
          "base_uri": "https://localhost:8080/"
        },
        "id": "zFBHvi-H6UwU",
        "outputId": "80009d34-9807-4919-a7a6-e69063242213"
      },
      "outputs": [
        {
          "name": "stdout",
          "output_type": "stream",
          "text": [
            "en la posicion 0 encontramos la tarea: ir al parque\n",
            "en la posicion 1 encontramos la tarea: hola\n",
            "en la posicion 2 encontramos la tarea: ir a cenar\n",
            "las tareas completadas son ir al parque\n",
            " las tareas no completadas son: ('hola', 'ir a cenar') \n"
          ]
        }
      ],
      "source": [
        "tareas = [\"ir al parque\", \"hola\", \"ir a cenar\"]\n",
        "\n",
        "completadas = (tareas[0])\n",
        "no_completadas = (tareas[1], tareas[2])\n",
        "\n",
        "for i, tarea in enumerate(tareas):\n",
        "  print(f\"en la posicion {i} encontramos la tarea: {tarea}\")\n",
        "\n",
        "\n",
        "#actualizacion\n",
        "print(f\"las tareas completadas son {completadas}\\n las tareas no completadas son: {no_completadas} \")\n"
      ]
    },
    {
      "cell_type": "code",
      "execution_count": null,
      "metadata": {
        "id": "-ytJ87eEEwyX"
      },
      "outputs": [],
      "source": []
    }
  ],
  "metadata": {
    "colab": {
      "provenance": []
    },
    "kernelspec": {
      "display_name": "Python 3",
      "name": "python3"
    },
    "language_info": {
      "name": "python"
    }
  },
  "nbformat": 4,
  "nbformat_minor": 0
}
