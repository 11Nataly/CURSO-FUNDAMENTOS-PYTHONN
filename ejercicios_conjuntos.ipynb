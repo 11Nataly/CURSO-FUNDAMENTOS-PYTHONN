{
  "cells": [
    {
      "cell_type": "markdown",
      "metadata": {
        "id": "kR9pQCuBz2x5"
      },
      "source": [
        "nota: los conjuntos no permiten operaciones indexadas\n"
      ]
    },
    {
      "cell_type": "markdown",
      "metadata": {
        "id": "-u9qOpszzlbo"
      },
      "source": [
        "\n",
        "# EJERCICIOS CONJUNTOS"
      ]
    },
    {
      "cell_type": "markdown",
      "metadata": {
        "id": "xwbJXqb9yak4"
      },
      "source": [
        "**Ejercicio 1:** Comparación y Análisis de Listas de Estudiantes Imagina que se tiene un conjunto con los números de identificación de los estudiantes de dos cursos. Se debe:\n",
        "\n",
        "Determinar si ambos conjuntos tienen estudiantes en común.\n",
        "\n",
        "Verificar si el conjunto de un curso está completamente contenido en el conjunto del otro.\n",
        "\n",
        "Mostrar el conjunto de estudiantes que aparece en ambos cursos (común) y también aquellos que están solo en uno de ellos (diferencia y diferencia simétrica). Ejemplo de salida esperado:"
      ]
    },
    {
      "cell_type": "markdown",
      "metadata": {
        "id": "_f-Y3OfS0M9p"
      },
      "source": [
        "salida:\n",
        "\n",
        "Los cursos tienen estudiantes en común: True\n",
        "\n",
        "El curso A es subconjunto del curso B: False\n",
        "Estudiantes comunes: {101, 203, 305}\n",
        "Estudiantes únicos entre ambos cursos: {102, 304, 406}"
      ]
    },
    {
      "cell_type": "code",
      "execution_count": null,
      "metadata": {
        "colab": {
          "base_uri": "https://localhost:8080/"
        },
        "id": "kiZX7pfouru2",
        "outputId": "b6e7547e-8cc7-40ee-a0cb-af09b445a6e3"
      },
      "outputs": [
        {
          "name": "stdout",
          "output_type": "stream",
          "text": [
            "¿Los cursos NO tienen estudiantes en común?: False\n",
            "El curso A es subconjunto del curso B: False\n",
            "Estudiantes comunes entre cursos: {305, 203, 101}\n",
            "Estudiantes únicos entre ambos cursos: {102, 304, 406}\n"
          ]
        }
      ],
      "source": [
        "num_id_a = [101, 102, 203, 305, 406]  \n",
        "num_id_b = [101, 203, 304, 305]\n",
        "\n",
        "conjunto_a = set(num_id_a)\n",
        "conjunto_b = set(num_id_b)\n",
        "\n",
        "#los cursos NO tienen estudiantes en común: falso, si tienen\n",
        "\n",
        "print(f\"¿Los cursos NO tienen estudiantes en común?: {conjunto_a.isdisjoint(conjunto_b)}\")\n",
        "\n",
        "#da falso porque todos los elementos del conjunto a no están contenidos en el conjunto b\n",
        "print(f\"El curso A es subconjunto del curso B: {conjunto_a.issubset(conjunto_b)}\")\n",
        "\n",
        "#Devuelve todos los estudiantes en común de los dos cursos\n",
        "\n",
        "print(f\"Estudiantes comunes entre cursos: {conjunto_a.intersection(conjunto_b)}\")\n",
        "\n",
        "#devuelve todos los elementos que no concuerdan entre los dos conjuntos\n",
        "\n",
        "print(f\"Estudiantes únicos entre ambos cursos: {conjunto_a.symmetric_difference(conjunto_b)}\")\n",
        "\n",
        "\n",
        "\n",
        "\n"
      ]
    },
    {
      "cell_type": "markdown",
      "metadata": {
        "id": "5sNVMyM-zruA"
      },
      "source": [
        "**Ejercicio 2: **Gestión de Inventarios en Almacenes Se dispone de dos conjuntos que representan los códigos de productos en dos almacenes diferentes. El desafío consiste en:\n",
        "\n",
        "Mostrar los productos que se encuentran en ambos almacenes.\n",
        "\n",
        "Determinar cuáles productos están únicamente en uno de ellos.\n",
        "\n",
        "Unificar los productos disponibles en ambos almacenes en un solo conjunto.\n",
        "\n",
        "Finalmente, eliminar (descartar) un producto que se ha dado de baja de uno de los almacenes."
      ]
    },
    {
      "cell_type": "markdown",
      "metadata": {
        "id": "8AJ313KB5u9a"
      },
      "source": [
        "Productos en común: {2002, 3003, 4004}\n",
        "Productos exclusivos del Almacén 1: {1001, 5005}\n",
        "Productos exclusivos del Almacén 2: {6006}\n",
        "Inventario unificado: {1001, 2002, 3003, 4004, 5005, 6006}\n",
        "Inventario del Almacén 1 tras descartar el producto 5005: {1001, 2002, 3003, 4004}"
      ]
    },
    {
      "cell_type": "markdown",
      "metadata": {
        "id": "wK8kuf5UzthY"
      },
      "source": []
    },
    {
      "cell_type": "code",
      "execution_count": null,
      "metadata": {
        "colab": {
          "base_uri": "https://localhost:8080/"
        },
        "id": "7XDbZ9K6zt2o",
        "outputId": "31a3fe0e-861e-4af4-ab20-f4bd49377560"
      },
      "outputs": [
        {
          "name": "stdout",
          "output_type": "stream",
          "text": [
            "almacen1 tiene productos en comun de almacen 2, son: {2002, 3003, 4004}\n",
            "productos en almacén 1 que no tiene el almacén 2:  {1001, 5005}\n",
            "productos en almacén 2 que no tiene el almacén 1: {6006}\n",
            "Unificar los productos disponibles en ambos almacenes en un solo conjunto: {4004, 1001, 5005, 2002, 6006, 3003}\n",
            "Inventario del Almacén 1 tras descartar el producto 5005: {2002, 4004, 1001, 3003}\n"
          ]
        }
      ],
      "source": [
        "inventario1 = {2002,3003,4004,1001,5005}\n",
        "inventario2 = {2002,3003,4004,6006}\n",
        "\n",
        "print(f\"almacen1 tiene productos en comun de almacen 2, son: {inventario1.intersection(inventario2)}\")\n",
        "\n",
        "#que productos del almacen 1 no se encuentran en el almacén 2 (difference: productos no comunes entre conjuntos)\n",
        "print(f\"productos en almacén 1 que no tiene el almacén 2:  {inventario1.difference(inventario2)}\")\n",
        "\n",
        "#que productos del almacen 2 no se encuentran en el almacén 1\n",
        "print(f\"productos en almacén 2 que no tiene el almacén 1: {inventario2.difference(inventario1)}\")\n",
        "\n",
        "#(union une los conjuntos y devuelve el nuevo conjunto)\n",
        "print(f\"Unificar los productos disponibles en ambos almacenes en un solo conjunto: {inventario1.union(inventario2)}\")\n",
        "\n",
        "\n",
        "inventario1.discard(5005)\n",
        "\n",
        "print(f\"Inventario del Almacén 1 tras descartar el producto 5005: {inventario1}\")\n",
        "\n",
        "\n",
        "\n"
      ]
    },
    {
      "cell_type": "markdown",
      "metadata": {
        "id": "eqzdmNadzxBA"
      },
      "source": [
        "**Ejercicio 3: **Análisis de Preferencias de Hobbies Se tiene un conjunto con los hobbies de un grupo de amigos y otro conjunto con los hobbies de otro grupo. Se solicita:\n",
        "\n",
        "Identificar qué hobbies comparten ambos grupos.\n",
        "\n",
        "Conocer cuáles son exclusivos de cada grupo (usando la diferencia y la diferencia simétrica).\n",
        "\n",
        "Comprobar si los grupos no tienen ningún hobby en común (verificar disjoint).\n",
        "\n",
        "Además, eliminar un hobby específico de uno de los conjuntos para actualizar las preferencias. Ejemplo de salida esperado:\n",
        "\n",
        "Hobbies comunes: {'leer', 'correr'} Hobbies únicos en el Grupo A: {'pintar'} Hobbies únicos en el Grupo B: {'cocinar', 'viajar'} ¿Los grupos no tienen hobbies en común?: False Grupo A actualizado tras eliminar 'pintar': {'leer', 'correr'}"
      ]
    },
    {
      "cell_type": "code",
      "execution_count": null,
      "metadata": {
        "colab": {
          "base_uri": "https://localhost:8080/"
        },
        "id": "AnzjNL_ypnoP",
        "outputId": "736c18ed-d104-47e2-d54e-d8fc6099bc79"
      },
      "outputs": [
        {
          "name": "stdout",
          "output_type": "stream",
          "text": [
            "hobbies que comparten los grupos: {'leer', 'correr'}\n",
            "hobbies exclusivos del grupo A: {'pintar'}\n",
            "hobbies exclusivos del grupo B: {'viajar', 'cocinar'}\n",
            "hobbies exclusivos del grupo A y B: {'viajar', 'pintar', 'cocinar'}\n",
            "¿Los grupos NO comparten hobbies en común?: False\n",
            "Grupo A, después de quitar 'pintar': {'leer', 'correr'}\n"
          ]
        }
      ],
      "source": [
        "hobbies_1 = {'leer', 'correr', 'pintar'}\n",
        "hobbies_2 = {'leer', 'correr', 'cocinar', 'viajar'}\n",
        "\n",
        "print(f\"hobbies que comparten los grupos: {hobbies_1.intersection(hobbies_2)}\")\n",
        "\n",
        "print(f\"hobbies exclusivos del grupo A: {hobbies_1.difference(hobbies_2)}\")\n",
        "\n",
        "print(f\"hobbies exclusivos del grupo B: {hobbies_2.difference(hobbies_1)}\")\n",
        "\n",
        "print(f\"hobbies exclusivos del grupo A y B: {hobbies_2.symmetric_difference(hobbies_1)}\")\n",
        "\n",
        "print(f\"¿Los grupos NO comparten hobbies en común?: {hobbies_1.isdisjoint(hobbies_2)}\")\n",
        "\n",
        "hobbies_1.discard('pintar')\n",
        "print(f\"Grupo A, después de quitar 'pintar': {hobbies_1}\")"
      ]
    }
  ],
  "metadata": {
    "colab": {
      "provenance": []
    },
    "kernelspec": {
      "display_name": "Python 3",
      "name": "python3"
    },
    "language_info": {
      "name": "python"
    }
  },
  "nbformat": 4,
  "nbformat_minor": 0
}
