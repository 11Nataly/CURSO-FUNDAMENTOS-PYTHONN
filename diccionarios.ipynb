{
  "cells": [
    {
      "cell_type": "markdown",
      "metadata": {
        "id": "0qfTAjFS9LvN"
      },
      "source": [
        "\n",
        "\n",
        "*   clave y valor (una clave y un valor. La clave puede tomar varios valores cuando se pone una clave y los valores dentro de una tupla o lista)\n",
        "*   capitales = {clave:valor}\n",
        "*  Se accede a los valores mediante su clave\n",
        "*   Elemento de lista\n",
        "\n",
        "\n",
        "\n",
        "\n"
      ]
    },
    {
      "cell_type": "markdown",
      "metadata": {
        "id": "-8snef2EA32E"
      },
      "source": [
        "#Metodos recorridos de diccionarios"
      ]
    },
    {
      "cell_type": "markdown",
      "metadata": {
        "id": "vqthkggeAhT8"
      },
      "source": [
        "**items()** guarda en una (o varias) variable las claves y los valores. Y las presenta en esas variables"
      ]
    },
    {
      "cell_type": "markdown",
      "metadata": {
        "id": "ABdgONFoA9G9"
      },
      "source": [
        "**keys()** devuelve las llaves"
      ]
    },
    {
      "cell_type": "markdown",
      "metadata": {
        "id": "XuWrFD_aBfTk"
      },
      "source": [
        "**values()** devuelve los valores"
      ]
    },
    {
      "cell_type": "markdown",
      "metadata": {
        "id": "KvQhMBziDaE1"
      },
      "source": [
        "# Apropiación Conjuntos"
      ]
    },
    {
      "cell_type": "markdown",
      "metadata": {
        "id": "95M1a6quDiB8"
      },
      "source": [
        "\n",
        "1. Leer una frase y devolver el conjunto de caracteres diferentes que se encuentran presentes en la frase leída.\n",
        "\n",
        "Imprimir los caracteres que no se repiten"
      ]
    },
    {
      "cell_type": "code",
      "execution_count": null,
      "metadata": {
        "colab": {
          "base_uri": "https://localhost:8080/"
        },
        "id": "G8paC0rfDhYU",
        "outputId": "eff1e59f-624c-431c-dfc9-113260125acd"
      },
      "outputs": [
        {
          "name": "stdout",
          "output_type": "stream",
          "text": [
            "Ingrese una frase: hola hola hlola como\n",
            "{'o', 'l', 'c', 'a', 'm', ' ', 'h'}\n"
          ]
        }
      ],
      "source": [
        "frase = input(\"Ingrese una frase: \") \n",
        "#se transforma la clase en conjunto porque los conjuntos no permiten valores repetidos\n",
        "conjunto = set(frase)\n",
        "print(conjunto)\n",
        "\n"
      ]
    },
    {
      "cell_type": "markdown",
      "metadata": {
        "id": "0-8ah3UpFEIc"
      },
      "source": [
        "2. En una escuela se permite la inscripción de sus alumnos a las siguientes actividades deportivas: futbol (f), baloncesto (b). Realice un programa que permita ingresar el nombre de sus estudiantes e inscribir a cada uno en uno o los dos deportes.\n"
      ]
    },
    {
      "cell_type": "markdown",
      "metadata": {
        "id": "AYIkDyqAFJvc"
      },
      "source": [
        "La aplicación debe mostrar los siguientes listados:\n",
        "\n",
        "* Estudiantes inscritos en fulbol\n",
        "* Estudiantes inscritos en baloncesto\n",
        "* Estudiantes inscritos en ambos deportes\n",
        "* Todos los estudiantes inscritos en algún deporte\n",
        "*  Estudiantes inscritos en solo un deporte.\n",
        "\n",
        "\n",
        "Genere un menú con las opciones de la aplicación\n",
        "\n",
        "\n"
      ]
    },
    {
      "cell_type": "code",
      "execution_count": null,
      "metadata": {
        "colab": {
          "base_uri": "https://localhost:8080/"
        },
        "id": "pLKdVp-fVgci",
        "outputId": "818e138c-da34-4d7e-ed69-0a8aa09d9997"
      },
      "outputs": [
        {
          "name": "stdout",
          "output_type": "stream",
          "text": [
            "\n",
            " 1. Inscribir estudiante a futbol\n",
            " 2. Inscribir estudiante a baloncesto\n",
            " 3. Inscribir estudiante a ambos deportes\n",
            " 4. Listados de estudiantes\n",
            " 5. Salir del programa\n",
            "Ingrese una opcion: 1\n",
            "\n",
            " Ingrese el nombre del alumno: hola\n",
            "\n",
            " 1. Inscribir estudiante a futbol\n",
            " 2. Inscribir estudiante a baloncesto\n",
            " 3. Inscribir estudiante a ambos deportes\n",
            " 4. Listados de estudiantes\n",
            " 5. Salir del programa\n",
            "Ingrese una opcion: 2\n",
            "\n",
            " Ingrese el nombre del alumno: como\n",
            "\n",
            " 1. Inscribir estudiante a futbol\n",
            " 2. Inscribir estudiante a baloncesto\n",
            " 3. Inscribir estudiante a ambos deportes\n",
            " 4. Listados de estudiantes\n",
            " 5. Salir del programa\n",
            "Ingrese una opcion: 3\n",
            "\n",
            " Ingrese el nombre del alumno: estas\n",
            "\n",
            " 1. Inscribir estudiante a futbol\n",
            " 2. Inscribir estudiante a baloncesto\n",
            " 3. Inscribir estudiante a ambos deportes\n",
            " 4. Listados de estudiantes\n",
            " 5. Salir del programa\n",
            "Ingrese una opcion: 3 \n",
            "\n",
            " Ingrese el nombre del alumno: mimi\n",
            "\n",
            " 1. Inscribir estudiante a futbol\n",
            " 2. Inscribir estudiante a baloncesto\n",
            " 3. Inscribir estudiante a ambos deportes\n",
            " 4. Listados de estudiantes\n",
            " 5. Salir del programa\n",
            "Ingrese una opcion: 4\n",
            "Listado de estudiantes...\n",
            "\n",
            " Los estudiantes inscritos en futbol son: ['hola', 'estas', 'mimi']\n",
            "Los estudiantes inscritos en baloncesto son: ['como', 'estas', 'mimi']\n",
            "Estudiantes inscritos en ambos deportes: {'mimi', 'estas'}\n",
            "Todos los estudiantes inscritos en algún deporte: {'mimi', 'hola', 'como', 'estas'}\n",
            "estudiantes inscritos en un sólo deporte: {'hola', 'como'}\n",
            "\n",
            " 1. Inscribir estudiante a futbol\n",
            " 2. Inscribir estudiante a baloncesto\n",
            " 3. Inscribir estudiante a ambos deportes\n",
            " 4. Listados de estudiantes\n",
            " 5. Salir del programa\n",
            "Ingrese una opcion: 5\n",
            "\n",
            " Has salido del programa, adios\n"
          ]
        }
      ],
      "source": [
        "#dos conjuntos vacíos en los que vamos a meter los estudiantes\n",
        "#que se inscriban a futbol y baloncesto\n",
        "\n",
        "futbol = []\n",
        "baloncesto = []\n",
        "\n",
        "while True:\n",
        "    print(\"\\n 1. Inscribir estudiante a futbol\")\n",
        "    print(\" 2. Inscribir estudiante a baloncesto\")\n",
        "    print(\" 3. Inscribir estudiante a ambos deportes\")\n",
        "    print(\" 4. Listados de estudiantes\")\n",
        "    print(\" 5. Salir del programa\")\n",
        "\n",
        "    opcion = int(input(\"Ingrese una opcion: \"))\n",
        "\n",
        "    if opcion == 1:\n",
        "      nombre = input(\"\\n Ingrese el nombre del alumno: \")\n",
        "      futbol.append(nombre)\n",
        "    elif opcion == 2:\n",
        "      nombre = input(\"\\n Ingrese el nombre del alumno: \")\n",
        "      baloncesto.append(nombre)\n",
        "    elif opcion == 3:\n",
        "      nombre = input(\"\\n Ingrese el nombre del alumno: \")\n",
        "      #guardar el estudiante en ambos deportes\n",
        "      futbol.append(nombre)\n",
        "      baloncesto.append(nombre)\n",
        "    elif opcion == 4:\n",
        "      es_futbol = set(futbol)\n",
        "      es_baloncesto = set(baloncesto)\n",
        "      print(\"Listado de estudiantes...\")\n",
        "      print(f\"\\n Los estudiantes inscritos en futbol son: {futbol}\")\n",
        "      print(f\"Los estudiantes inscritos en baloncesto son: {baloncesto}\")\n",
        "      #estudiantes en ambos deportes (devuelve los elemento comunes)\n",
        "      print(f\"Estudiantes inscritos en ambos deportes: {es_futbol.intersection(es_baloncesto)}\")\n",
        "      #une todos los estudianes e igual quita los elementos repetidos (los que están en ambos deportes)\n",
        "      print(f\"Todos los estudiantes inscritos en algún deporte: {es_futbol.union(es_baloncesto)}\")\n",
        "      #estudiantes inscritos en un sólo deporte\n",
        "      print(f\"estudiantes inscritos en un sólo deporte: {es_futbol.symmetric_difference(es_baloncesto)}\")\n",
        "    elif opcion == 5:\n",
        "        print(\"\\n Has salido del programa, adios\")\n",
        "        break\n",
        "    else:\n",
        "      print(\"\\n Opcion no valida... \\n Vuelva a intentarlo\")\n",
        "      continue\n",
        "\n"
      ]
    },
    {
      "cell_type": "markdown",
      "metadata": {
        "id": "LgmhbTKXnCF2"
      },
      "source": [
        "# Apropiación Diccionarios"
      ]
    },
    {
      "cell_type": "markdown",
      "metadata": {
        "id": "MnrAMwDDnGDO"
      },
      "source": [
        "1. Realice un programa traductor de frutas del español al inglés. Para ello, solicite el nombre de una fruta al usuario y muestre su traducción al inglés. Si la fruta no se encuentra en el diccionario, permítale al usuario agregarla con su respectiva traducción. El programa solo termina cuando el usuario ingresa una fruta que no está en el diccionario y no desea agregarla."
      ]
    },
    {
      "cell_type": "code",
      "execution_count": null,
      "metadata": {
        "colab": {
          "base_uri": "https://localhost:8080/"
        },
        "id": "yI1W8kelnKwW",
        "outputId": "a52eaeb4-6640-4f1a-ad20-ee3a2f125a7a"
      },
      "outputs": [
        {
          "name": "stdout",
          "output_type": "stream",
          "text": [
            "ingrese una fruta en español con la primera en mayúscula (ej: Banano): d\n",
            "la fruta no se encuentra \n",
            "desea agregarla? si/no: si\n",
            "ingrese el nombre de la fruta en español que desea agregar: Mango\n",
            "ingrese su traducción al inglés: Mango\n",
            "su nueva fruta es: Mango y la traducción es Mango\n",
            "diccionario actualizado: {'Durazno': 'Peach', 'Fresa': 'strawberry', 'Aguacate': 'Avocado', 'Piña': 'Pineapple', 'Banano': 'Banana', 'Mango': 'Mango'}\n",
            "ingrese una fruta en español con la primera en mayúscula (ej: Banano): s\n",
            "la fruta no se encuentra \n",
            "desea agregarla? si/no: no\n",
            "adios...\n"
          ]
        }
      ],
      "source": [
        "\n",
        "\n",
        "mi_diccionario = {\"Durazno\":\"Peach\", \"Fresa\":\"strawberry\", \"Aguacate\": \"Avocado\", \"Piña\": \"Pineapple\", \"Banano\": \"Banana\"}\n",
        "\n",
        "#NO FUNCIONA: HAY QUE TRANSFORMARLO A CONJUNTO Y AGREGARLE LAS FRUTAS Y LUEGO TRANSFORMARLO A DICCIONARIO\n",
        "\n",
        "while True:\n",
        "  fruta = input(\"ingrese una fruta en español con la primera en mayúscula (ej: Banano): \")\n",
        "  if fruta in mi_diccionario:\n",
        "    print(f\"La fruta {fruta} se traduce al inglés como: {mi_diccionario[fruta]}\")\n",
        "    break #paramos el ciclo\n",
        "  else: #si la fruta no está en el diccionario\n",
        "    print(\"la fruta no se encuentra \")\n",
        "    opcion = input(\"desea agregarla? si/no: \")\n",
        "    if opcion ==\"si\":\n",
        "       nueva = input(\"ingrese el nombre de la fruta en español que desea agregar: \")\n",
        "       traduccion = input(\"ingrese su traducción al inglés: \")\n",
        "       mi_diccionario[nueva] = traduccion #agregar la fruta al diccionario con su traduccion\n",
        "\n",
        "       print(f\"su nueva fruta es: {nueva} y la traducción es {traduccion}\")\n",
        "       print(f\"diccionario actualizado: {mi_diccionario}\")\n",
        "    else:\n",
        "      print(\"adios...\")\n",
        "      break\n",
        "\n",
        "\n",
        "\n",
        "\n",
        "\n",
        "\n",
        "\n"
      ]
    },
    {
      "cell_type": "markdown",
      "metadata": {
        "id": "3NRfX3lIpgkm"
      },
      "source": [
        "METODOS: aplicables a las colecciones\n",
        "vs\n",
        "FUNCIONES: instrucciones que se van a llamar para que realicen sus instrucciones"
      ]
    },
    {
      "cell_type": "markdown",
      "metadata": {
        "id": "WTGBL9h6t9Z2"
      },
      "source": [
        "no se puede asignar una palabra y una clave y luego dar argumentos posicionales al llamar una función\n",
        "\n",
        "ejemplo (a=1,2,3) X MAL"
      ]
    },
    {
      "cell_type": "markdown",
      "metadata": {
        "id": "HnM5J0Orvkq1"
      },
      "source": [
        "**args** toma todo lo que le meta a la función y genera los argumentos como una tupla"
      ]
    },
    {
      "cell_type": "markdown",
      "metadata": {
        "id": "gOzETD-svcC9"
      },
      "source": [
        "**kargs** cuando queremos recibir el nombre de las variables"
      ]
    },
    {
      "cell_type": "markdown",
      "metadata": {
        "id": "injnWvaGxKKN"
      },
      "source": [
        "PODEMOS CAMBIAR EL VALOR POR FUERA DE DONDE DEFINIMOS LAS FUNCIONES. No podemos hacer esto en caso de definirla como \"global\" dentro de la función"
      ]
    }
  ],
  "metadata": {
    "colab": {
      "provenance": []
    },
    "kernelspec": {
      "display_name": "Python 3",
      "name": "python3"
    },
    "language_info": {
      "name": "python"
    }
  },
  "nbformat": 4,
  "nbformat_minor": 0
}
